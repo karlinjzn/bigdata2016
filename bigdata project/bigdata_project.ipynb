{
 "cells": [
  {
   "cell_type": "code",
   "execution_count": 3,
   "metadata": {
    "collapsed": false
   },
   "outputs": [],
   "source": [
    "# Implement all the libraries we need \n",
    "\n",
    "%matplotlib inline\n",
    "import re\n",
    "import io\n",
    "import urllib2\n",
    "import networkx as nx\n",
    "import json\n",
    "import glob\n",
    "import numpy as np\n",
    "import operator\n",
    "import matplotlib.pyplot as plt\n",
    "import time\n",
    "import networkx as nx\n",
    "import os.path\n",
    "from __future__ import division\n",
    "from pprint import pprint\n",
    "import community"
   ]
  },
  {
   "cell_type": "code",
   "execution_count": 56,
   "metadata": {
    "collapsed": false
   },
   "outputs": [],
   "source": [
    "# Get JSON reply using the URL\n",
    "def getJSONReply(URL):\n",
    "    response = urllib2.urlopen(URL);\n",
    "    html = response.read();\n",
    "    data = json.loads(html);\n",
    "    return data;\n",
    "\n",
    "def getUserInput():\n",
    "    FileExists=os.path.isfile('RitoMongo.conf') ;\n",
    "    res=[];\n",
    "    if (FileExists):\n",
    "        with open('RitoMongo.conf') as f:\n",
    "            for line in f:\n",
    "                res.append(line.rstrip('\\n'));\n",
    "                print line.rstrip('\\n');\n",
    "    elif (not FileExists):\n",
    "        SummonerName= raw_input('Enter your Summoner name: ');\n",
    "        Region  = (raw_input('Enter your region: ')).upper();\n",
    "        Key = raw_input('Enter your API Key which you retrieved from Riot website: ');\n",
    "        f = open('RitoMongo.conf','w');\n",
    "        f.write(SummonerName+'\\n'+Region+'\\n'+Key);\n",
    "        f.close();\n",
    "    return res;\n",
    "\n",
    "# Using the game-v1.3 API to get each player's recent history      \n",
    "def getRecentHistory(SummonerID):\n",
    "        rURL= \"https://\" +Region.lower()+ \".api.pvp.net/api/lol/\" + \\\n",
    "        Region.lower()+ \"/v1.3/game/by-summoner/\" + SummonerID+ \"/recent?api_key=\" + Key;\n",
    "        r_data=getJSONReply(rURL);\n",
    "        r_data['_id']=r_data['summonerId'];\n",
    "        r_data.pop('summonerId');\n",
    "        # Write the data to a local json file, naming it after this Summoner's ID\n",
    "        with io.open('RecentHistory/%s.json' % str(SummonerID), 'w', encoding='utf-8') as f:\n",
    "            f.write(unicode(json.dumps(r_data, ensure_ascii=False)))\n",
    "        return r_data;\n",
    "\n",
    "def getMatchlist(SummonerID):\n",
    "        rURL= \"https://\" +Region.lower()+ \".api.pvp.net/api/lol/\" + Region.lower()+ \"/v2.2/matchlist/by-summoner/\" + `SummonerID`+ \"/?api_key=\" + Key\n",
    "        r_data=getJSONReply(rURL);\n",
    "        return r_data\n",
    "\n",
    "def getMatch(MatchID):\n",
    "        rURL= \"https://\" +Region.lower()+ \".api.pvp.net/api/lol/\" + Region.lower()+ \"/v2.2/match/\" + `MatchID`+ \"/?api_key=\" + Key\n",
    "        r_data=getJSONReply(rURL);\n",
    "        with io.open('Match/%s.json' % str(MatchID), 'w', encoding='utf-8') as f:\n",
    "             f.write(unicode(json.dumps(r_data, ensure_ascii=False)))\n",
    "        return r_data \n",
    "\n",
    "# Using the championmastery API to get each player's mastery of the champions\n",
    "def getChampion(SummonerID):\n",
    "        rURL= \"https://\" +Region.lower()+ \".api.pvp.net/championmastery/location/\"\\\n",
    "        + Region+ \"1/player/\" + `SummonerID`+ \"/champions?api_key=\" + Key\n",
    "        r_data=getJSONReply(rURL)\n",
    "        # Write the data to a local json file, naming it after this Summoner's ID\n",
    "        with io.open('Champion/%s.json' % str(SummonerID), 'w', encoding='utf-8') as f:\n",
    "             f.write(unicode(json.dumps(r_data, ensure_ascii=False)))\n",
    "        return r_data \n",
    "\n",
    "# Using the summoner-v1.4 API to get each player's identity information by their names\n",
    "def ReformatJSON(SummonerName,Region,Key):\n",
    "    idURL = \"https://\" +Region.lower()+ \".api.pvp.net/api/lol/\" +Region.lower()+ \"/v1.4/summoner/by-name/\" + SummonerName+ \"?api_key=\" + Key\n",
    "    id_data = getJSONReply(idURL)\n",
    "    idRes=id_data[SummonerName.lower()]\n",
    "    idRes['_id'] = idRes['id']\n",
    "    idRes.pop('id')\n",
    "    return idRes,id_data\n",
    "\n",
    "# Using the summoner-v1.4 API to get each player's identity information by their IDs\n",
    "def ReformatJSONbyid(SummonerID,Region,Key):\n",
    "    idURL = \"https://\" +Region.lower()+ \".api.pvp.net/api/lol/\" +Region.lower()+ \"/v1.4/summoner/\" +SummonerID+ \"?api_key=\" +Key\n",
    "    id_data = getJSONReply(idURL)\n",
    "    idRes=id_data[SummonerID]\n",
    "    idRes['_id'] = idRes['id']\n",
    "    idRes.pop('id')\n",
    "    # Write the data to a local json file, naming it after this Summoner's ID\n",
    "    with io.open('Summoner/%s.json' % str(SummonerID), 'w', encoding='utf-8') as f:\n",
    "          f.write(unicode(json.dumps(idRes, ensure_ascii=False)))\n",
    "    return idRes,id_data"
   ]
  },
  {
   "cell_type": "code",
   "execution_count": 59,
   "metadata": {
    "collapsed": true
   },
   "outputs": [
    {
     "ename": "KeyboardInterrupt",
     "evalue": "",
     "output_type": "error",
     "traceback": [
      "\u001b[0;31m---------------------------------------------------------------------------\u001b[0m",
      "\u001b[0;31mKeyboardInterrupt\u001b[0m                         Traceback (most recent call last)",
      "\u001b[0;32m<ipython-input-59-ee3ae3d43121>\u001b[0m in \u001b[0;36m<module>\u001b[0;34m()\u001b[0m\n\u001b[1;32m      8\u001b[0m \u001b[0;34m\u001b[0m\u001b[0m\n\u001b[1;32m      9\u001b[0m \u001b[0mSummonerID\u001b[0m\u001b[0;34m=\u001b[0m\u001b[0mid_data\u001b[0m\u001b[0;34m[\u001b[0m\u001b[0mSummonerName\u001b[0m\u001b[0;34m.\u001b[0m\u001b[0mlower\u001b[0m\u001b[0;34m(\u001b[0m\u001b[0;34m)\u001b[0m\u001b[0;34m]\u001b[0m\u001b[0;34m[\u001b[0m\u001b[0;34m\"_id\"\u001b[0m\u001b[0;34m]\u001b[0m\u001b[0;34m\u001b[0m\u001b[0m\n\u001b[0;32m---> 10\u001b[0;31m \u001b[0mrdata\u001b[0m\u001b[0;34m=\u001b[0m\u001b[0mgetRecentHistory\u001b[0m\u001b[0;34m(\u001b[0m\u001b[0mstr\u001b[0m\u001b[0;34m(\u001b[0m\u001b[0mSummonerID\u001b[0m\u001b[0;34m)\u001b[0m\u001b[0;34m)\u001b[0m\u001b[0;34m\u001b[0m\u001b[0m\n\u001b[0m\u001b[1;32m     11\u001b[0m \u001b[0;32mprint\u001b[0m \u001b[0mtype\u001b[0m\u001b[0;34m(\u001b[0m\u001b[0mrdata\u001b[0m\u001b[0;34m)\u001b[0m\u001b[0;34m\u001b[0m\u001b[0m\n\u001b[1;32m     12\u001b[0m \u001b[0mmatchlist\u001b[0m\u001b[0;34m=\u001b[0m\u001b[0mgetMatchlist\u001b[0m\u001b[0;34m(\u001b[0m\u001b[0mSummonerID\u001b[0m\u001b[0;34m)\u001b[0m\u001b[0;34m\u001b[0m\u001b[0m\n",
      "\u001b[0;32m<ipython-input-56-d20dba402e43>\u001b[0m in \u001b[0;36mgetRecentHistory\u001b[0;34m(SummonerID)\u001b[0m\n\u001b[1;32m     26\u001b[0m \u001b[0;32mdef\u001b[0m \u001b[0mgetRecentHistory\u001b[0m\u001b[0;34m(\u001b[0m\u001b[0mSummonerID\u001b[0m\u001b[0;34m)\u001b[0m\u001b[0;34m:\u001b[0m\u001b[0;34m\u001b[0m\u001b[0m\n\u001b[1;32m     27\u001b[0m         \u001b[0mrURL\u001b[0m\u001b[0;34m=\u001b[0m \u001b[0;34m\"https://\"\u001b[0m \u001b[0;34m+\u001b[0m\u001b[0mRegion\u001b[0m\u001b[0;34m.\u001b[0m\u001b[0mlower\u001b[0m\u001b[0;34m(\u001b[0m\u001b[0;34m)\u001b[0m\u001b[0;34m+\u001b[0m \u001b[0;34m\".api.pvp.net/api/lol/\"\u001b[0m \u001b[0;34m+\u001b[0m         \u001b[0mRegion\u001b[0m\u001b[0;34m.\u001b[0m\u001b[0mlower\u001b[0m\u001b[0;34m(\u001b[0m\u001b[0;34m)\u001b[0m\u001b[0;34m+\u001b[0m \u001b[0;34m\"/v1.3/game/by-summoner/\"\u001b[0m \u001b[0;34m+\u001b[0m \u001b[0mSummonerID\u001b[0m\u001b[0;34m+\u001b[0m \u001b[0;34m\"/recent?api_key=\"\u001b[0m \u001b[0;34m+\u001b[0m \u001b[0mKey\u001b[0m\u001b[0;34m;\u001b[0m\u001b[0;34m\u001b[0m\u001b[0m\n\u001b[0;32m---> 28\u001b[0;31m         \u001b[0mr_data\u001b[0m\u001b[0;34m=\u001b[0m\u001b[0mgetJSONReply\u001b[0m\u001b[0;34m(\u001b[0m\u001b[0mrURL\u001b[0m\u001b[0;34m)\u001b[0m\u001b[0;34m;\u001b[0m\u001b[0;34m\u001b[0m\u001b[0m\n\u001b[0m\u001b[1;32m     29\u001b[0m         \u001b[0mr_data\u001b[0m\u001b[0;34m[\u001b[0m\u001b[0;34m'_id'\u001b[0m\u001b[0;34m]\u001b[0m\u001b[0;34m=\u001b[0m\u001b[0mr_data\u001b[0m\u001b[0;34m[\u001b[0m\u001b[0;34m'summonerId'\u001b[0m\u001b[0;34m]\u001b[0m\u001b[0;34m;\u001b[0m\u001b[0;34m\u001b[0m\u001b[0m\n\u001b[1;32m     30\u001b[0m         \u001b[0mr_data\u001b[0m\u001b[0;34m.\u001b[0m\u001b[0mpop\u001b[0m\u001b[0;34m(\u001b[0m\u001b[0;34m'summonerId'\u001b[0m\u001b[0;34m)\u001b[0m\u001b[0;34m;\u001b[0m\u001b[0;34m\u001b[0m\u001b[0m\n",
      "\u001b[0;32m<ipython-input-56-d20dba402e43>\u001b[0m in \u001b[0;36mgetJSONReply\u001b[0;34m(URL)\u001b[0m\n\u001b[1;32m      1\u001b[0m \u001b[0;31m# Get JSON reply using the URL\u001b[0m\u001b[0;34m\u001b[0m\u001b[0;34m\u001b[0m\u001b[0m\n\u001b[1;32m      2\u001b[0m \u001b[0;32mdef\u001b[0m \u001b[0mgetJSONReply\u001b[0m\u001b[0;34m(\u001b[0m\u001b[0mURL\u001b[0m\u001b[0;34m)\u001b[0m\u001b[0;34m:\u001b[0m\u001b[0;34m\u001b[0m\u001b[0m\n\u001b[0;32m----> 3\u001b[0;31m     \u001b[0mresponse\u001b[0m \u001b[0;34m=\u001b[0m \u001b[0murllib2\u001b[0m\u001b[0;34m.\u001b[0m\u001b[0murlopen\u001b[0m\u001b[0;34m(\u001b[0m\u001b[0mURL\u001b[0m\u001b[0;34m)\u001b[0m\u001b[0;34m;\u001b[0m\u001b[0;34m\u001b[0m\u001b[0m\n\u001b[0m\u001b[1;32m      4\u001b[0m     \u001b[0mhtml\u001b[0m \u001b[0;34m=\u001b[0m \u001b[0mresponse\u001b[0m\u001b[0;34m.\u001b[0m\u001b[0mread\u001b[0m\u001b[0;34m(\u001b[0m\u001b[0;34m)\u001b[0m\u001b[0;34m;\u001b[0m\u001b[0;34m\u001b[0m\u001b[0m\n\u001b[1;32m      5\u001b[0m     \u001b[0mdata\u001b[0m \u001b[0;34m=\u001b[0m \u001b[0mjson\u001b[0m\u001b[0;34m.\u001b[0m\u001b[0mloads\u001b[0m\u001b[0;34m(\u001b[0m\u001b[0mhtml\u001b[0m\u001b[0;34m)\u001b[0m\u001b[0;34m;\u001b[0m\u001b[0;34m\u001b[0m\u001b[0m\n",
      "\u001b[0;32m/Users/zhuonijie/anaconda2/lib/python2.7/urllib2.pyc\u001b[0m in \u001b[0;36murlopen\u001b[0;34m(url, data, timeout, cafile, capath, cadefault, context)\u001b[0m\n\u001b[1;32m    152\u001b[0m     \u001b[0;32melse\u001b[0m\u001b[0;34m:\u001b[0m\u001b[0;34m\u001b[0m\u001b[0m\n\u001b[1;32m    153\u001b[0m         \u001b[0mopener\u001b[0m \u001b[0;34m=\u001b[0m \u001b[0m_opener\u001b[0m\u001b[0;34m\u001b[0m\u001b[0m\n\u001b[0;32m--> 154\u001b[0;31m     \u001b[0;32mreturn\u001b[0m \u001b[0mopener\u001b[0m\u001b[0;34m.\u001b[0m\u001b[0mopen\u001b[0m\u001b[0;34m(\u001b[0m\u001b[0murl\u001b[0m\u001b[0;34m,\u001b[0m \u001b[0mdata\u001b[0m\u001b[0;34m,\u001b[0m \u001b[0mtimeout\u001b[0m\u001b[0;34m)\u001b[0m\u001b[0;34m\u001b[0m\u001b[0m\n\u001b[0m\u001b[1;32m    155\u001b[0m \u001b[0;34m\u001b[0m\u001b[0m\n\u001b[1;32m    156\u001b[0m \u001b[0;32mdef\u001b[0m \u001b[0minstall_opener\u001b[0m\u001b[0;34m(\u001b[0m\u001b[0mopener\u001b[0m\u001b[0;34m)\u001b[0m\u001b[0;34m:\u001b[0m\u001b[0;34m\u001b[0m\u001b[0m\n",
      "\u001b[0;32m/Users/zhuonijie/anaconda2/lib/python2.7/urllib2.pyc\u001b[0m in \u001b[0;36mopen\u001b[0;34m(self, fullurl, data, timeout)\u001b[0m\n\u001b[1;32m    427\u001b[0m             \u001b[0mreq\u001b[0m \u001b[0;34m=\u001b[0m \u001b[0mmeth\u001b[0m\u001b[0;34m(\u001b[0m\u001b[0mreq\u001b[0m\u001b[0;34m)\u001b[0m\u001b[0;34m\u001b[0m\u001b[0m\n\u001b[1;32m    428\u001b[0m \u001b[0;34m\u001b[0m\u001b[0m\n\u001b[0;32m--> 429\u001b[0;31m         \u001b[0mresponse\u001b[0m \u001b[0;34m=\u001b[0m \u001b[0mself\u001b[0m\u001b[0;34m.\u001b[0m\u001b[0m_open\u001b[0m\u001b[0;34m(\u001b[0m\u001b[0mreq\u001b[0m\u001b[0;34m,\u001b[0m \u001b[0mdata\u001b[0m\u001b[0;34m)\u001b[0m\u001b[0;34m\u001b[0m\u001b[0m\n\u001b[0m\u001b[1;32m    430\u001b[0m \u001b[0;34m\u001b[0m\u001b[0m\n\u001b[1;32m    431\u001b[0m         \u001b[0;31m# post-process response\u001b[0m\u001b[0;34m\u001b[0m\u001b[0;34m\u001b[0m\u001b[0m\n",
      "\u001b[0;32m/Users/zhuonijie/anaconda2/lib/python2.7/urllib2.pyc\u001b[0m in \u001b[0;36m_open\u001b[0;34m(self, req, data)\u001b[0m\n\u001b[1;32m    445\u001b[0m         \u001b[0mprotocol\u001b[0m \u001b[0;34m=\u001b[0m \u001b[0mreq\u001b[0m\u001b[0;34m.\u001b[0m\u001b[0mget_type\u001b[0m\u001b[0;34m(\u001b[0m\u001b[0;34m)\u001b[0m\u001b[0;34m\u001b[0m\u001b[0m\n\u001b[1;32m    446\u001b[0m         result = self._call_chain(self.handle_open, protocol, protocol +\n\u001b[0;32m--> 447\u001b[0;31m                                   '_open', req)\n\u001b[0m\u001b[1;32m    448\u001b[0m         \u001b[0;32mif\u001b[0m \u001b[0mresult\u001b[0m\u001b[0;34m:\u001b[0m\u001b[0;34m\u001b[0m\u001b[0m\n\u001b[1;32m    449\u001b[0m             \u001b[0;32mreturn\u001b[0m \u001b[0mresult\u001b[0m\u001b[0;34m\u001b[0m\u001b[0m\n",
      "\u001b[0;32m/Users/zhuonijie/anaconda2/lib/python2.7/urllib2.pyc\u001b[0m in \u001b[0;36m_call_chain\u001b[0;34m(self, chain, kind, meth_name, *args)\u001b[0m\n\u001b[1;32m    405\u001b[0m             \u001b[0mfunc\u001b[0m \u001b[0;34m=\u001b[0m \u001b[0mgetattr\u001b[0m\u001b[0;34m(\u001b[0m\u001b[0mhandler\u001b[0m\u001b[0;34m,\u001b[0m \u001b[0mmeth_name\u001b[0m\u001b[0;34m)\u001b[0m\u001b[0;34m\u001b[0m\u001b[0m\n\u001b[1;32m    406\u001b[0m \u001b[0;34m\u001b[0m\u001b[0m\n\u001b[0;32m--> 407\u001b[0;31m             \u001b[0mresult\u001b[0m \u001b[0;34m=\u001b[0m \u001b[0mfunc\u001b[0m\u001b[0;34m(\u001b[0m\u001b[0;34m*\u001b[0m\u001b[0margs\u001b[0m\u001b[0;34m)\u001b[0m\u001b[0;34m\u001b[0m\u001b[0m\n\u001b[0m\u001b[1;32m    408\u001b[0m             \u001b[0;32mif\u001b[0m \u001b[0mresult\u001b[0m \u001b[0;32mis\u001b[0m \u001b[0;32mnot\u001b[0m \u001b[0mNone\u001b[0m\u001b[0;34m:\u001b[0m\u001b[0;34m\u001b[0m\u001b[0m\n\u001b[1;32m    409\u001b[0m                 \u001b[0;32mreturn\u001b[0m \u001b[0mresult\u001b[0m\u001b[0;34m\u001b[0m\u001b[0m\n",
      "\u001b[0;32m/Users/zhuonijie/anaconda2/lib/python2.7/urllib2.pyc\u001b[0m in \u001b[0;36mhttps_open\u001b[0;34m(self, req)\u001b[0m\n\u001b[1;32m   1239\u001b[0m         \u001b[0;32mdef\u001b[0m \u001b[0mhttps_open\u001b[0m\u001b[0;34m(\u001b[0m\u001b[0mself\u001b[0m\u001b[0;34m,\u001b[0m \u001b[0mreq\u001b[0m\u001b[0;34m)\u001b[0m\u001b[0;34m:\u001b[0m\u001b[0;34m\u001b[0m\u001b[0m\n\u001b[1;32m   1240\u001b[0m             return self.do_open(httplib.HTTPSConnection, req,\n\u001b[0;32m-> 1241\u001b[0;31m                 context=self._context)\n\u001b[0m\u001b[1;32m   1242\u001b[0m \u001b[0;34m\u001b[0m\u001b[0m\n\u001b[1;32m   1243\u001b[0m         \u001b[0mhttps_request\u001b[0m \u001b[0;34m=\u001b[0m \u001b[0mAbstractHTTPHandler\u001b[0m\u001b[0;34m.\u001b[0m\u001b[0mdo_request_\u001b[0m\u001b[0;34m\u001b[0m\u001b[0m\n",
      "\u001b[0;32m/Users/zhuonijie/anaconda2/lib/python2.7/urllib2.pyc\u001b[0m in \u001b[0;36mdo_open\u001b[0;34m(self, http_class, req, **http_conn_args)\u001b[0m\n\u001b[1;32m   1199\u001b[0m         \u001b[0;32melse\u001b[0m\u001b[0;34m:\u001b[0m\u001b[0;34m\u001b[0m\u001b[0m\n\u001b[1;32m   1200\u001b[0m             \u001b[0;32mtry\u001b[0m\u001b[0;34m:\u001b[0m\u001b[0;34m\u001b[0m\u001b[0m\n\u001b[0;32m-> 1201\u001b[0;31m                 \u001b[0mr\u001b[0m \u001b[0;34m=\u001b[0m \u001b[0mh\u001b[0m\u001b[0;34m.\u001b[0m\u001b[0mgetresponse\u001b[0m\u001b[0;34m(\u001b[0m\u001b[0mbuffering\u001b[0m\u001b[0;34m=\u001b[0m\u001b[0mTrue\u001b[0m\u001b[0;34m)\u001b[0m\u001b[0;34m\u001b[0m\u001b[0m\n\u001b[0m\u001b[1;32m   1202\u001b[0m             \u001b[0;32mexcept\u001b[0m \u001b[0mTypeError\u001b[0m\u001b[0;34m:\u001b[0m \u001b[0;31m# buffering kw not supported\u001b[0m\u001b[0;34m\u001b[0m\u001b[0m\n\u001b[1;32m   1203\u001b[0m                 \u001b[0mr\u001b[0m \u001b[0;34m=\u001b[0m \u001b[0mh\u001b[0m\u001b[0;34m.\u001b[0m\u001b[0mgetresponse\u001b[0m\u001b[0;34m(\u001b[0m\u001b[0;34m)\u001b[0m\u001b[0;34m\u001b[0m\u001b[0m\n",
      "\u001b[0;32m/Users/zhuonijie/anaconda2/lib/python2.7/httplib.pyc\u001b[0m in \u001b[0;36mgetresponse\u001b[0;34m(self, buffering)\u001b[0m\n\u001b[1;32m   1134\u001b[0m \u001b[0;34m\u001b[0m\u001b[0m\n\u001b[1;32m   1135\u001b[0m         \u001b[0;32mtry\u001b[0m\u001b[0;34m:\u001b[0m\u001b[0;34m\u001b[0m\u001b[0m\n\u001b[0;32m-> 1136\u001b[0;31m             \u001b[0mresponse\u001b[0m\u001b[0;34m.\u001b[0m\u001b[0mbegin\u001b[0m\u001b[0;34m(\u001b[0m\u001b[0;34m)\u001b[0m\u001b[0;34m\u001b[0m\u001b[0m\n\u001b[0m\u001b[1;32m   1137\u001b[0m             \u001b[0;32massert\u001b[0m \u001b[0mresponse\u001b[0m\u001b[0;34m.\u001b[0m\u001b[0mwill_close\u001b[0m \u001b[0;34m!=\u001b[0m \u001b[0m_UNKNOWN\u001b[0m\u001b[0;34m\u001b[0m\u001b[0m\n\u001b[1;32m   1138\u001b[0m             \u001b[0mself\u001b[0m\u001b[0;34m.\u001b[0m\u001b[0m__state\u001b[0m \u001b[0;34m=\u001b[0m \u001b[0m_CS_IDLE\u001b[0m\u001b[0;34m\u001b[0m\u001b[0m\n",
      "\u001b[0;32m/Users/zhuonijie/anaconda2/lib/python2.7/httplib.pyc\u001b[0m in \u001b[0;36mbegin\u001b[0;34m(self)\u001b[0m\n\u001b[1;32m    451\u001b[0m         \u001b[0;31m# read until we get a non-100 response\u001b[0m\u001b[0;34m\u001b[0m\u001b[0;34m\u001b[0m\u001b[0m\n\u001b[1;32m    452\u001b[0m         \u001b[0;32mwhile\u001b[0m \u001b[0mTrue\u001b[0m\u001b[0;34m:\u001b[0m\u001b[0;34m\u001b[0m\u001b[0m\n\u001b[0;32m--> 453\u001b[0;31m             \u001b[0mversion\u001b[0m\u001b[0;34m,\u001b[0m \u001b[0mstatus\u001b[0m\u001b[0;34m,\u001b[0m \u001b[0mreason\u001b[0m \u001b[0;34m=\u001b[0m \u001b[0mself\u001b[0m\u001b[0;34m.\u001b[0m\u001b[0m_read_status\u001b[0m\u001b[0;34m(\u001b[0m\u001b[0;34m)\u001b[0m\u001b[0;34m\u001b[0m\u001b[0m\n\u001b[0m\u001b[1;32m    454\u001b[0m             \u001b[0;32mif\u001b[0m \u001b[0mstatus\u001b[0m \u001b[0;34m!=\u001b[0m \u001b[0mCONTINUE\u001b[0m\u001b[0;34m:\u001b[0m\u001b[0;34m\u001b[0m\u001b[0m\n\u001b[1;32m    455\u001b[0m                 \u001b[0;32mbreak\u001b[0m\u001b[0;34m\u001b[0m\u001b[0m\n",
      "\u001b[0;32m/Users/zhuonijie/anaconda2/lib/python2.7/httplib.pyc\u001b[0m in \u001b[0;36m_read_status\u001b[0;34m(self)\u001b[0m\n\u001b[1;32m    407\u001b[0m     \u001b[0;32mdef\u001b[0m \u001b[0m_read_status\u001b[0m\u001b[0;34m(\u001b[0m\u001b[0mself\u001b[0m\u001b[0;34m)\u001b[0m\u001b[0;34m:\u001b[0m\u001b[0;34m\u001b[0m\u001b[0m\n\u001b[1;32m    408\u001b[0m         \u001b[0;31m# Initialize with Simple-Response defaults\u001b[0m\u001b[0;34m\u001b[0m\u001b[0;34m\u001b[0m\u001b[0m\n\u001b[0;32m--> 409\u001b[0;31m         \u001b[0mline\u001b[0m \u001b[0;34m=\u001b[0m \u001b[0mself\u001b[0m\u001b[0;34m.\u001b[0m\u001b[0mfp\u001b[0m\u001b[0;34m.\u001b[0m\u001b[0mreadline\u001b[0m\u001b[0;34m(\u001b[0m\u001b[0m_MAXLINE\u001b[0m \u001b[0;34m+\u001b[0m \u001b[0;36m1\u001b[0m\u001b[0;34m)\u001b[0m\u001b[0;34m\u001b[0m\u001b[0m\n\u001b[0m\u001b[1;32m    410\u001b[0m         \u001b[0;32mif\u001b[0m \u001b[0mlen\u001b[0m\u001b[0;34m(\u001b[0m\u001b[0mline\u001b[0m\u001b[0;34m)\u001b[0m \u001b[0;34m>\u001b[0m \u001b[0m_MAXLINE\u001b[0m\u001b[0;34m:\u001b[0m\u001b[0;34m\u001b[0m\u001b[0m\n\u001b[1;32m    411\u001b[0m             \u001b[0;32mraise\u001b[0m \u001b[0mLineTooLong\u001b[0m\u001b[0;34m(\u001b[0m\u001b[0;34m\"header line\"\u001b[0m\u001b[0;34m)\u001b[0m\u001b[0;34m\u001b[0m\u001b[0m\n",
      "\u001b[0;32m/Users/zhuonijie/anaconda2/lib/python2.7/socket.pyc\u001b[0m in \u001b[0;36mreadline\u001b[0;34m(self, size)\u001b[0m\n\u001b[1;32m    478\u001b[0m             \u001b[0;32mwhile\u001b[0m \u001b[0mTrue\u001b[0m\u001b[0;34m:\u001b[0m\u001b[0;34m\u001b[0m\u001b[0m\n\u001b[1;32m    479\u001b[0m                 \u001b[0;32mtry\u001b[0m\u001b[0;34m:\u001b[0m\u001b[0;34m\u001b[0m\u001b[0m\n\u001b[0;32m--> 480\u001b[0;31m                     \u001b[0mdata\u001b[0m \u001b[0;34m=\u001b[0m \u001b[0mself\u001b[0m\u001b[0;34m.\u001b[0m\u001b[0m_sock\u001b[0m\u001b[0;34m.\u001b[0m\u001b[0mrecv\u001b[0m\u001b[0;34m(\u001b[0m\u001b[0mself\u001b[0m\u001b[0;34m.\u001b[0m\u001b[0m_rbufsize\u001b[0m\u001b[0;34m)\u001b[0m\u001b[0;34m\u001b[0m\u001b[0m\n\u001b[0m\u001b[1;32m    481\u001b[0m                 \u001b[0;32mexcept\u001b[0m \u001b[0merror\u001b[0m\u001b[0;34m,\u001b[0m \u001b[0me\u001b[0m\u001b[0;34m:\u001b[0m\u001b[0;34m\u001b[0m\u001b[0m\n\u001b[1;32m    482\u001b[0m                     \u001b[0;32mif\u001b[0m \u001b[0me\u001b[0m\u001b[0;34m.\u001b[0m\u001b[0margs\u001b[0m\u001b[0;34m[\u001b[0m\u001b[0;36m0\u001b[0m\u001b[0;34m]\u001b[0m \u001b[0;34m==\u001b[0m \u001b[0mEINTR\u001b[0m\u001b[0;34m:\u001b[0m\u001b[0;34m\u001b[0m\u001b[0m\n",
      "\u001b[0;32m/Users/zhuonijie/anaconda2/lib/python2.7/ssl.pyc\u001b[0m in \u001b[0;36mrecv\u001b[0;34m(self, buflen, flags)\u001b[0m\n\u001b[1;32m    754\u001b[0m                     \u001b[0;34m\"non-zero flags not allowed in calls to recv() on %s\"\u001b[0m \u001b[0;34m%\u001b[0m\u001b[0;34m\u001b[0m\u001b[0m\n\u001b[1;32m    755\u001b[0m                     self.__class__)\n\u001b[0;32m--> 756\u001b[0;31m             \u001b[0;32mreturn\u001b[0m \u001b[0mself\u001b[0m\u001b[0;34m.\u001b[0m\u001b[0mread\u001b[0m\u001b[0;34m(\u001b[0m\u001b[0mbuflen\u001b[0m\u001b[0;34m)\u001b[0m\u001b[0;34m\u001b[0m\u001b[0m\n\u001b[0m\u001b[1;32m    757\u001b[0m         \u001b[0;32melse\u001b[0m\u001b[0;34m:\u001b[0m\u001b[0;34m\u001b[0m\u001b[0m\n\u001b[1;32m    758\u001b[0m             \u001b[0;32mreturn\u001b[0m \u001b[0mself\u001b[0m\u001b[0;34m.\u001b[0m\u001b[0m_sock\u001b[0m\u001b[0;34m.\u001b[0m\u001b[0mrecv\u001b[0m\u001b[0;34m(\u001b[0m\u001b[0mbuflen\u001b[0m\u001b[0;34m,\u001b[0m \u001b[0mflags\u001b[0m\u001b[0;34m)\u001b[0m\u001b[0;34m\u001b[0m\u001b[0m\n",
      "\u001b[0;32m/Users/zhuonijie/anaconda2/lib/python2.7/ssl.pyc\u001b[0m in \u001b[0;36mread\u001b[0;34m(self, len, buffer)\u001b[0m\n\u001b[1;32m    641\u001b[0m                 \u001b[0mv\u001b[0m \u001b[0;34m=\u001b[0m \u001b[0mself\u001b[0m\u001b[0;34m.\u001b[0m\u001b[0m_sslobj\u001b[0m\u001b[0;34m.\u001b[0m\u001b[0mread\u001b[0m\u001b[0;34m(\u001b[0m\u001b[0mlen\u001b[0m\u001b[0;34m,\u001b[0m \u001b[0mbuffer\u001b[0m\u001b[0;34m)\u001b[0m\u001b[0;34m\u001b[0m\u001b[0m\n\u001b[1;32m    642\u001b[0m             \u001b[0;32melse\u001b[0m\u001b[0;34m:\u001b[0m\u001b[0;34m\u001b[0m\u001b[0m\n\u001b[0;32m--> 643\u001b[0;31m                 \u001b[0mv\u001b[0m \u001b[0;34m=\u001b[0m \u001b[0mself\u001b[0m\u001b[0;34m.\u001b[0m\u001b[0m_sslobj\u001b[0m\u001b[0;34m.\u001b[0m\u001b[0mread\u001b[0m\u001b[0;34m(\u001b[0m\u001b[0mlen\u001b[0m\u001b[0;34m)\u001b[0m\u001b[0;34m\u001b[0m\u001b[0m\n\u001b[0m\u001b[1;32m    644\u001b[0m             \u001b[0;32mreturn\u001b[0m \u001b[0mv\u001b[0m\u001b[0;34m\u001b[0m\u001b[0m\n\u001b[1;32m    645\u001b[0m         \u001b[0;32mexcept\u001b[0m \u001b[0mSSLError\u001b[0m \u001b[0;32mas\u001b[0m \u001b[0mx\u001b[0m\u001b[0;34m:\u001b[0m\u001b[0;34m\u001b[0m\u001b[0m\n",
      "\u001b[0;31mKeyboardInterrupt\u001b[0m: "
     ]
    }
   ],
   "source": [
    "#================================= Main =============================================================================\n",
    "SummonerName=\"Miladena\"\n",
    "Region=\"EUW\"\n",
    "Key=\"RGAPI-20253dda-c325-4a7e-947a-d283af4f8641\"\n",
    "\n",
    "# Retrieving the SummonerID;\n",
    "idURL,id_data=ReformatJSON(SummonerName,Region,Key)\n",
    "\n",
    "SummonerID=id_data[SummonerName.lower()][\"_id\"]\n",
    "rdata=getRecentHistory(str(SummonerID))\n",
    "print type(rdata)\n",
    "matchlist=getMatchlist(SummonerID)\n",
    "\n",
    "#Connecting to mongoDB database\n",
    "#client = MongoClient();\n",
    "#db = client['RitoMongoDB'];\n",
    "#SummonerID_Collection = db[\"SummonerID\"];\n",
    "#RecentHistory_Collection = db[\"RecentHistory\"];\n",
    "#entryID = SummonerID_Collection.insert_one({str(SummonerID):idURL}).inserted_id;\n",
    "#entryID = RecentHistory_Collection.insert_one({str(SummonerID):rdata}).inserted_id;\n",
    "#client.close();"
   ]
  },
  {
   "cell_type": "code",
   "execution_count": 60,
   "metadata": {
    "collapsed": false
   },
   "outputs": [
    {
     "data": {
      "text/plain": [
       "dict"
      ]
     },
     "execution_count": 60,
     "metadata": {},
     "output_type": "execute_result"
    }
   ],
   "source": [
    "type(rdata)"
   ]
  },
  {
   "cell_type": "code",
   "execution_count": 180,
   "metadata": {
    "collapsed": false
   },
   "outputs": [
    {
     "data": {
      "text/plain": [
       "9"
      ]
     },
     "execution_count": 180,
     "metadata": {},
     "output_type": "execute_result"
    }
   ],
   "source": [
    "len(rdata[\"games\"][1][\"fellowPlayers\"])"
   ]
  },
  {
   "cell_type": "code",
   "execution_count": 237,
   "metadata": {
    "collapsed": false
   },
   "outputs": [
    {
     "name": "stdout",
     "output_type": "stream",
     "text": [
      "636\n"
     ]
    }
   ],
   "source": [
    "# Generate an id list to store a huge amount of summoner ids\n",
    "idlist = [SummonerID]\n",
    "\n",
    "# Iterate calling the API, \n",
    "# get each summoner's 10 recent games,\n",
    "# find their fellow players in each game\n",
    "# save their summoner id to a list, 'idlist'\n",
    "for k in range(10):\n",
    "    rdata=getRecentHistory(idlist[k])\n",
    "    for i in range(len(rdata[\"games\"])):\n",
    "        # In some kinds of games, player doesn't have fellow players\n",
    "        if \"fellowPlayers\" not in rdata[\"games\"][i].keys():\n",
    "            continue\n",
    "        for j in range(len(rdata[\"games\"][i][\"fellowPlayers\"])):\n",
    "            idlist.append(rdata[\"games\"][i][\"fellowPlayers\"][j][\"summonerId\"])           \n",
    "            \n",
    "print len(set(idlist))"
   ]
  },
  {
   "cell_type": "code",
   "execution_count": 257,
   "metadata": {
    "collapsed": false
   },
   "outputs": [],
   "source": [
    "SummonerName=\"HARIKAYIM\"\n",
    "\n",
    "# Retrieving the SummonerID;\n",
    "idURL,id_data=ReformatJSON(SummonerName,Region,Key)\n",
    "SummonerID=id_data[SummonerName.lower()][\"_id\"]\n",
    "rdata=getRecentHistory(SummonerID)\n",
    "matchlist=getMatchlist(SummonerID)\n",
    "\n",
    "for i in range(len(rdata[\"games\"])):\n",
    "        if \"fellowPlayers\" not in rdata[\"games\"][i].keys():\n",
    "            continue\n",
    "        for j in range(len(rdata[\"games\"][i][\"fellowPlayers\"])):\n",
    "            idlist.append(rdata[\"games\"][i][\"fellowPlayers\"][j][\"summonerId\"]) "
   ]
  },
  {
   "cell_type": "code",
   "execution_count": 300,
   "metadata": {
    "collapsed": false
   },
   "outputs": [
    {
     "name": "stdout",
     "output_type": "stream",
     "text": [
      "20192\n"
     ]
    }
   ],
   "source": [
    "for k in range(19500,19510):\n",
    "    rdata=getRecentHistory(idlist[k])\n",
    "    for i in range(len(rdata[\"games\"])):\n",
    "        if \"fellowPlayers\" not in rdata[\"games\"][i].keys():\n",
    "            continue\n",
    "        for j in range(len(rdata[\"games\"][i][\"fellowPlayers\"])):\n",
    "            idlist.append(rdata[\"games\"][i][\"fellowPlayers\"][j][\"summonerId\"])           \n",
    "            \n",
    "print len(set(idlist))"
   ]
  },
  {
   "cell_type": "code",
   "execution_count": 165,
   "metadata": {
    "collapsed": true
   },
   "outputs": [],
   "source": [
    "uni = unicode(str(uniidlist), encoding='UTF-8')\n",
    "with io.open('idlist.txt' , 'w', encoding='utf-8') as f:\n",
    "       f.write(uni)"
   ]
  },
  {
   "cell_type": "code",
   "execution_count": 6,
   "metadata": {
    "collapsed": false
   },
   "outputs": [],
   "source": [
    "with io.open('idlist.txt' , 'r', encoding='utf-8') as f:\n",
    "       idlist = f.read()\n",
    "idlist = list(set(idlist[1:-1].split(', ')))\n",
    "uniidlist = []\n",
    "for i in idlist:\n",
    "    uniidlist.append(int(i))"
   ]
  },
  {
   "cell_type": "code",
   "execution_count": 47,
   "metadata": {
    "collapsed": false
   },
   "outputs": [
    {
     "data": {
      "text/plain": [
       "20192"
      ]
     },
     "execution_count": 47,
     "metadata": {},
     "output_type": "execute_result"
    }
   ],
   "source": [
    "len(uniidlist)"
   ]
  },
  {
   "cell_type": "code",
   "execution_count": 164,
   "metadata": {
    "collapsed": false
   },
   "outputs": [
    {
     "name": "stdout",
     "output_type": "stream",
     "text": [
      "69054\n"
     ]
    }
   ],
   "source": [
    "for k in range(67990,68000):\n",
    "    rdata=getRecentHistory(str(uniidlist[k]))\n",
    "    for i in range(len(rdata[\"games\"])):\n",
    "        if \"fellowPlayers\" not in rdata[\"games\"][i].keys():\n",
    "            continue\n",
    "        for j in range(len(rdata[\"games\"][i][\"fellowPlayers\"])):\n",
    "            uniidlist.append(rdata[\"games\"][i][\"fellowPlayers\"][j][\"summonerId\"])           \n",
    "            \n",
    "print len(set(uniidlist))"
   ]
  },
  {
   "cell_type": "code",
   "execution_count": 163,
   "metadata": {
    "collapsed": false
   },
   "outputs": [
    {
     "name": "stdout",
     "output_type": "stream",
     "text": [
      "68519\n"
     ]
    }
   ],
   "source": [
    "for k in range(67690,67700):\n",
    "    rdata=getRecentHistory(str(uniidlist[k]))\n",
    "    for i in range(len(rdata[\"games\"])):\n",
    "        if \"fellowPlayers\" not in rdata[\"games\"][i].keys():\n",
    "            continue\n",
    "        for j in range(len(rdata[\"games\"][i][\"fellowPlayers\"])):\n",
    "            uniidlist.append(rdata[\"games\"][i][\"fellowPlayers\"][j][\"summonerId\"])           \n",
    "            \n",
    "print len(set(uniidlist))"
   ]
  },
  {
   "cell_type": "code",
   "execution_count": 7,
   "metadata": {
    "collapsed": false
   },
   "outputs": [],
   "source": [
    "uniidlist = list(set(uniidlist))"
   ]
  },
  {
   "cell_type": "code",
   "execution_count": 8,
   "metadata": {
    "collapsed": false
   },
   "outputs": [
    {
     "data": {
      "text/plain": [
       "69054"
      ]
     },
     "execution_count": 8,
     "metadata": {},
     "output_type": "execute_result"
    }
   ],
   "source": [
    "len(uniidlist)"
   ]
  },
  {
   "cell_type": "code",
   "execution_count": 319,
   "metadata": {
    "collapsed": true
   },
   "outputs": [
    {
     "name": "stdout",
     "output_type": "stream",
     "text": [
      "1\n",
      "2\n",
      "3\n",
      "4\n",
      "5\n",
      "6\n",
      "7\n",
      "8\n",
      "9\n",
      "10\n",
      "11\n",
      "12\n",
      "13\n",
      "14\n",
      "15\n",
      "16\n",
      "17\n",
      "18\n",
      "19\n",
      "20\n",
      "21\n",
      "22\n",
      "23\n",
      "24\n",
      "25\n",
      "26\n",
      "27\n",
      "28\n",
      "29\n",
      "30\n",
      "31\n",
      "32\n",
      "33\n",
      "34\n",
      "35\n",
      "36\n",
      "37\n",
      "38\n",
      "39\n",
      "40\n",
      "41\n",
      "42\n",
      "43\n",
      "44\n",
      "45\n",
      "46\n",
      "47\n",
      "48\n",
      "49\n",
      "50\n",
      "51\n",
      "52\n",
      "53\n",
      "54\n",
      "55\n",
      "56\n",
      "57\n",
      "58\n",
      "59\n",
      "60\n",
      "61\n",
      "62\n",
      "63\n",
      "64\n",
      "65\n",
      "66\n",
      "67\n",
      "68\n",
      "69\n",
      "70\n",
      "71\n",
      "72\n",
      "73\n",
      "74\n",
      "75\n",
      "76\n",
      "77\n",
      "78\n",
      "79\n",
      "80\n",
      "81\n",
      "82\n",
      "83\n",
      "84\n",
      "85\n",
      "86\n",
      "87\n",
      "88\n",
      "89\n",
      "90\n",
      "91\n",
      "92\n",
      "93\n",
      "94\n",
      "95\n",
      "96\n",
      "97\n",
      "98\n",
      "99\n",
      "100\n",
      "101\n",
      "102\n",
      "103\n",
      "104\n",
      "105\n",
      "106\n",
      "107\n",
      "108\n",
      "109\n",
      "110\n",
      "111\n",
      "112\n",
      "113\n",
      "114\n",
      "115\n",
      "116\n",
      "117\n",
      "118\n",
      "119\n",
      "120\n",
      "121\n",
      "122\n",
      "123\n",
      "124\n",
      "125\n",
      "126\n",
      "127\n",
      "128\n",
      "129\n",
      "130\n",
      "131\n",
      "132\n",
      "133\n",
      "134\n",
      "135\n",
      "136\n",
      "137\n",
      "138\n",
      "139\n",
      "140\n",
      "141\n",
      "142\n",
      "143\n",
      "144\n",
      "145\n",
      "146\n",
      "147\n",
      "148\n",
      "149\n",
      "150\n",
      "151\n",
      "152\n",
      "153\n",
      "154\n",
      "155\n",
      "156\n",
      "157\n",
      "158\n",
      "159\n",
      "160\n",
      "161\n",
      "162\n",
      "163\n",
      "164\n",
      "165\n",
      "166\n",
      "167\n",
      "168\n",
      "169\n",
      "170\n",
      "171\n",
      "172\n",
      "173\n",
      "174\n",
      "175\n",
      "176\n",
      "177\n",
      "178\n",
      "179\n",
      "180\n",
      "181\n",
      "182\n",
      "183\n",
      "184\n",
      "185\n",
      "186\n",
      "187\n",
      "188\n",
      "189\n",
      "190\n",
      "191\n",
      "192\n",
      "193\n",
      "194\n",
      "195\n",
      "196\n",
      "197\n",
      "198\n",
      "199\n",
      "200\n",
      "201\n",
      "202\n",
      "203\n",
      "204\n",
      "205\n",
      "206\n",
      "207\n",
      "208\n",
      "209\n",
      "210\n",
      "211\n",
      "212\n",
      "213\n",
      "214\n",
      "215\n",
      "216\n",
      "217\n",
      "218\n",
      "219\n",
      "220\n",
      "221\n",
      "222\n",
      "223\n",
      "224\n",
      "225\n",
      "226\n",
      "227\n",
      "228\n",
      "229\n",
      "230\n",
      "231\n",
      "232\n",
      "233\n",
      "234\n",
      "235\n",
      "236\n",
      "237\n",
      "238\n",
      "239\n",
      "240\n",
      "241\n",
      "242\n",
      "243\n",
      "244\n",
      "245\n",
      "246\n",
      "247\n",
      "248\n",
      "249\n",
      "250\n"
     ]
    },
    {
     "ename": "HTTPError",
     "evalue": "HTTP Error 429: Too Many Requests",
     "output_type": "error",
     "traceback": [
      "\u001b[0;31m---------------------------------------------------------------------------\u001b[0m",
      "\u001b[0;31mHTTPError\u001b[0m                                 Traceback (most recent call last)",
      "\u001b[0;32m<ipython-input-319-951e8f4bae44>\u001b[0m in \u001b[0;36m<module>\u001b[0;34m()\u001b[0m\n\u001b[1;32m      1\u001b[0m \u001b[0mi\u001b[0m\u001b[0;34m=\u001b[0m\u001b[0;36m0\u001b[0m\u001b[0;34m\u001b[0m\u001b[0m\n\u001b[1;32m      2\u001b[0m \u001b[0;32mfor\u001b[0m \u001b[0mgamer\u001b[0m \u001b[0;32min\u001b[0m \u001b[0muniidlist\u001b[0m\u001b[0;34m:\u001b[0m\u001b[0;34m\u001b[0m\u001b[0m\n\u001b[0;32m----> 3\u001b[0;31m     \u001b[0midURL\u001b[0m\u001b[0;34m,\u001b[0m\u001b[0mid_data\u001b[0m\u001b[0;34m=\u001b[0m\u001b[0mReformatJSONbyid\u001b[0m\u001b[0;34m(\u001b[0m\u001b[0mstr\u001b[0m\u001b[0;34m(\u001b[0m\u001b[0mgamer\u001b[0m\u001b[0;34m)\u001b[0m\u001b[0;34m,\u001b[0m\u001b[0mRegion\u001b[0m\u001b[0;34m,\u001b[0m\u001b[0mKey\u001b[0m\u001b[0;34m)\u001b[0m\u001b[0;34m\u001b[0m\u001b[0m\n\u001b[0m\u001b[1;32m      4\u001b[0m     \u001b[0mtime\u001b[0m\u001b[0;34m.\u001b[0m\u001b[0msleep\u001b[0m\u001b[0;34m(\u001b[0m\u001b[0;36m0.8\u001b[0m\u001b[0;34m)\u001b[0m\u001b[0;34m\u001b[0m\u001b[0m\n\u001b[1;32m      5\u001b[0m     \u001b[0mrdata\u001b[0m\u001b[0;34m=\u001b[0m\u001b[0mgetRecentHistory\u001b[0m\u001b[0;34m(\u001b[0m\u001b[0mgamer\u001b[0m\u001b[0;34m)\u001b[0m\u001b[0;34m\u001b[0m\u001b[0m\n",
      "\u001b[0;32m<ipython-input-288-948ffd5c84ce>\u001b[0m in \u001b[0;36mReformatJSONbyid\u001b[0;34m(SummonerID, Region, Key)\u001b[0m\n\u001b[1;32m     64\u001b[0m \u001b[0;32mdef\u001b[0m \u001b[0mReformatJSONbyid\u001b[0m\u001b[0;34m(\u001b[0m\u001b[0mSummonerID\u001b[0m\u001b[0;34m,\u001b[0m\u001b[0mRegion\u001b[0m\u001b[0;34m,\u001b[0m\u001b[0mKey\u001b[0m\u001b[0;34m)\u001b[0m\u001b[0;34m:\u001b[0m\u001b[0;34m\u001b[0m\u001b[0m\n\u001b[1;32m     65\u001b[0m     \u001b[0midURL\u001b[0m \u001b[0;34m=\u001b[0m \u001b[0;34m\"https://\"\u001b[0m \u001b[0;34m+\u001b[0m\u001b[0mRegion\u001b[0m\u001b[0;34m.\u001b[0m\u001b[0mlower\u001b[0m\u001b[0;34m(\u001b[0m\u001b[0;34m)\u001b[0m\u001b[0;34m+\u001b[0m \u001b[0;34m\".api.pvp.net/api/lol/\"\u001b[0m \u001b[0;34m+\u001b[0m\u001b[0mRegion\u001b[0m\u001b[0;34m.\u001b[0m\u001b[0mlower\u001b[0m\u001b[0;34m(\u001b[0m\u001b[0;34m)\u001b[0m\u001b[0;34m+\u001b[0m \u001b[0;34m\"/v1.4/summoner/\"\u001b[0m \u001b[0;34m+\u001b[0m\u001b[0mSummonerID\u001b[0m\u001b[0;34m+\u001b[0m \u001b[0;34m\"?api_key=\"\u001b[0m \u001b[0;34m+\u001b[0m\u001b[0mKey\u001b[0m\u001b[0;34m\u001b[0m\u001b[0m\n\u001b[0;32m---> 66\u001b[0;31m     \u001b[0mid_data\u001b[0m \u001b[0;34m=\u001b[0m \u001b[0mgetJSONReply\u001b[0m\u001b[0;34m(\u001b[0m\u001b[0midURL\u001b[0m\u001b[0;34m)\u001b[0m\u001b[0;34m;\u001b[0m\u001b[0;34m\u001b[0m\u001b[0m\n\u001b[0m\u001b[1;32m     67\u001b[0m     \u001b[0midRes\u001b[0m\u001b[0;34m=\u001b[0m\u001b[0mid_data\u001b[0m\u001b[0;34m[\u001b[0m\u001b[0mSummonerID\u001b[0m\u001b[0;34m]\u001b[0m\u001b[0;34m;\u001b[0m\u001b[0;34m\u001b[0m\u001b[0m\n\u001b[1;32m     68\u001b[0m     \u001b[0midRes\u001b[0m\u001b[0;34m[\u001b[0m\u001b[0;34m'_id'\u001b[0m\u001b[0;34m]\u001b[0m \u001b[0;34m=\u001b[0m \u001b[0midRes\u001b[0m\u001b[0;34m[\u001b[0m\u001b[0;34m'id'\u001b[0m\u001b[0;34m]\u001b[0m\u001b[0;34m;\u001b[0m\u001b[0;34m\u001b[0m\u001b[0m\n",
      "\u001b[0;32m<ipython-input-288-948ffd5c84ce>\u001b[0m in \u001b[0;36mgetJSONReply\u001b[0;34m(URL)\u001b[0m\n\u001b[1;32m      1\u001b[0m \u001b[0;32mdef\u001b[0m \u001b[0mgetJSONReply\u001b[0m\u001b[0;34m(\u001b[0m\u001b[0mURL\u001b[0m\u001b[0;34m)\u001b[0m\u001b[0;34m:\u001b[0m\u001b[0;34m\u001b[0m\u001b[0m\n\u001b[0;32m----> 2\u001b[0;31m     \u001b[0mresponse\u001b[0m \u001b[0;34m=\u001b[0m \u001b[0murllib2\u001b[0m\u001b[0;34m.\u001b[0m\u001b[0murlopen\u001b[0m\u001b[0;34m(\u001b[0m\u001b[0mURL\u001b[0m\u001b[0;34m)\u001b[0m\u001b[0;34m;\u001b[0m\u001b[0;34m\u001b[0m\u001b[0m\n\u001b[0m\u001b[1;32m      3\u001b[0m     \u001b[0mhtml\u001b[0m \u001b[0;34m=\u001b[0m \u001b[0mresponse\u001b[0m\u001b[0;34m.\u001b[0m\u001b[0mread\u001b[0m\u001b[0;34m(\u001b[0m\u001b[0;34m)\u001b[0m\u001b[0;34m;\u001b[0m\u001b[0;34m\u001b[0m\u001b[0m\n\u001b[1;32m      4\u001b[0m     \u001b[0mdata\u001b[0m \u001b[0;34m=\u001b[0m \u001b[0mjson\u001b[0m\u001b[0;34m.\u001b[0m\u001b[0mloads\u001b[0m\u001b[0;34m(\u001b[0m\u001b[0mhtml\u001b[0m\u001b[0;34m)\u001b[0m\u001b[0;34m;\u001b[0m\u001b[0;34m\u001b[0m\u001b[0m\n\u001b[1;32m      5\u001b[0m     \u001b[0;32mreturn\u001b[0m \u001b[0mdata\u001b[0m\u001b[0;34m;\u001b[0m\u001b[0;34m\u001b[0m\u001b[0m\n",
      "\u001b[0;32m/Users/zhuonijie/anaconda2/lib/python2.7/urllib2.pyc\u001b[0m in \u001b[0;36murlopen\u001b[0;34m(url, data, timeout, cafile, capath, cadefault, context)\u001b[0m\n\u001b[1;32m    152\u001b[0m     \u001b[0;32melse\u001b[0m\u001b[0;34m:\u001b[0m\u001b[0;34m\u001b[0m\u001b[0m\n\u001b[1;32m    153\u001b[0m         \u001b[0mopener\u001b[0m \u001b[0;34m=\u001b[0m \u001b[0m_opener\u001b[0m\u001b[0;34m\u001b[0m\u001b[0m\n\u001b[0;32m--> 154\u001b[0;31m     \u001b[0;32mreturn\u001b[0m \u001b[0mopener\u001b[0m\u001b[0;34m.\u001b[0m\u001b[0mopen\u001b[0m\u001b[0;34m(\u001b[0m\u001b[0murl\u001b[0m\u001b[0;34m,\u001b[0m \u001b[0mdata\u001b[0m\u001b[0;34m,\u001b[0m \u001b[0mtimeout\u001b[0m\u001b[0;34m)\u001b[0m\u001b[0;34m\u001b[0m\u001b[0m\n\u001b[0m\u001b[1;32m    155\u001b[0m \u001b[0;34m\u001b[0m\u001b[0m\n\u001b[1;32m    156\u001b[0m \u001b[0;32mdef\u001b[0m \u001b[0minstall_opener\u001b[0m\u001b[0;34m(\u001b[0m\u001b[0mopener\u001b[0m\u001b[0;34m)\u001b[0m\u001b[0;34m:\u001b[0m\u001b[0;34m\u001b[0m\u001b[0m\n",
      "\u001b[0;32m/Users/zhuonijie/anaconda2/lib/python2.7/urllib2.pyc\u001b[0m in \u001b[0;36mopen\u001b[0;34m(self, fullurl, data, timeout)\u001b[0m\n\u001b[1;32m    433\u001b[0m         \u001b[0;32mfor\u001b[0m \u001b[0mprocessor\u001b[0m \u001b[0;32min\u001b[0m \u001b[0mself\u001b[0m\u001b[0;34m.\u001b[0m\u001b[0mprocess_response\u001b[0m\u001b[0;34m.\u001b[0m\u001b[0mget\u001b[0m\u001b[0;34m(\u001b[0m\u001b[0mprotocol\u001b[0m\u001b[0;34m,\u001b[0m \u001b[0;34m[\u001b[0m\u001b[0;34m]\u001b[0m\u001b[0;34m)\u001b[0m\u001b[0;34m:\u001b[0m\u001b[0;34m\u001b[0m\u001b[0m\n\u001b[1;32m    434\u001b[0m             \u001b[0mmeth\u001b[0m \u001b[0;34m=\u001b[0m \u001b[0mgetattr\u001b[0m\u001b[0;34m(\u001b[0m\u001b[0mprocessor\u001b[0m\u001b[0;34m,\u001b[0m \u001b[0mmeth_name\u001b[0m\u001b[0;34m)\u001b[0m\u001b[0;34m\u001b[0m\u001b[0m\n\u001b[0;32m--> 435\u001b[0;31m             \u001b[0mresponse\u001b[0m \u001b[0;34m=\u001b[0m \u001b[0mmeth\u001b[0m\u001b[0;34m(\u001b[0m\u001b[0mreq\u001b[0m\u001b[0;34m,\u001b[0m \u001b[0mresponse\u001b[0m\u001b[0;34m)\u001b[0m\u001b[0;34m\u001b[0m\u001b[0m\n\u001b[0m\u001b[1;32m    436\u001b[0m \u001b[0;34m\u001b[0m\u001b[0m\n\u001b[1;32m    437\u001b[0m         \u001b[0;32mreturn\u001b[0m \u001b[0mresponse\u001b[0m\u001b[0;34m\u001b[0m\u001b[0m\n",
      "\u001b[0;32m/Users/zhuonijie/anaconda2/lib/python2.7/urllib2.pyc\u001b[0m in \u001b[0;36mhttp_response\u001b[0;34m(self, request, response)\u001b[0m\n\u001b[1;32m    546\u001b[0m         \u001b[0;32mif\u001b[0m \u001b[0;32mnot\u001b[0m \u001b[0;34m(\u001b[0m\u001b[0;36m200\u001b[0m \u001b[0;34m<=\u001b[0m \u001b[0mcode\u001b[0m \u001b[0;34m<\u001b[0m \u001b[0;36m300\u001b[0m\u001b[0;34m)\u001b[0m\u001b[0;34m:\u001b[0m\u001b[0;34m\u001b[0m\u001b[0m\n\u001b[1;32m    547\u001b[0m             response = self.parent.error(\n\u001b[0;32m--> 548\u001b[0;31m                 'http', request, response, code, msg, hdrs)\n\u001b[0m\u001b[1;32m    549\u001b[0m \u001b[0;34m\u001b[0m\u001b[0m\n\u001b[1;32m    550\u001b[0m         \u001b[0;32mreturn\u001b[0m \u001b[0mresponse\u001b[0m\u001b[0;34m\u001b[0m\u001b[0m\n",
      "\u001b[0;32m/Users/zhuonijie/anaconda2/lib/python2.7/urllib2.pyc\u001b[0m in \u001b[0;36merror\u001b[0;34m(self, proto, *args)\u001b[0m\n\u001b[1;32m    471\u001b[0m         \u001b[0;32mif\u001b[0m \u001b[0mhttp_err\u001b[0m\u001b[0;34m:\u001b[0m\u001b[0;34m\u001b[0m\u001b[0m\n\u001b[1;32m    472\u001b[0m             \u001b[0margs\u001b[0m \u001b[0;34m=\u001b[0m \u001b[0;34m(\u001b[0m\u001b[0mdict\u001b[0m\u001b[0;34m,\u001b[0m \u001b[0;34m'default'\u001b[0m\u001b[0;34m,\u001b[0m \u001b[0;34m'http_error_default'\u001b[0m\u001b[0;34m)\u001b[0m \u001b[0;34m+\u001b[0m \u001b[0morig_args\u001b[0m\u001b[0;34m\u001b[0m\u001b[0m\n\u001b[0;32m--> 473\u001b[0;31m             \u001b[0;32mreturn\u001b[0m \u001b[0mself\u001b[0m\u001b[0;34m.\u001b[0m\u001b[0m_call_chain\u001b[0m\u001b[0;34m(\u001b[0m\u001b[0;34m*\u001b[0m\u001b[0margs\u001b[0m\u001b[0;34m)\u001b[0m\u001b[0;34m\u001b[0m\u001b[0m\n\u001b[0m\u001b[1;32m    474\u001b[0m \u001b[0;34m\u001b[0m\u001b[0m\n\u001b[1;32m    475\u001b[0m \u001b[0;31m# XXX probably also want an abstract factory that knows when it makes\u001b[0m\u001b[0;34m\u001b[0m\u001b[0;34m\u001b[0m\u001b[0m\n",
      "\u001b[0;32m/Users/zhuonijie/anaconda2/lib/python2.7/urllib2.pyc\u001b[0m in \u001b[0;36m_call_chain\u001b[0;34m(self, chain, kind, meth_name, *args)\u001b[0m\n\u001b[1;32m    405\u001b[0m             \u001b[0mfunc\u001b[0m \u001b[0;34m=\u001b[0m \u001b[0mgetattr\u001b[0m\u001b[0;34m(\u001b[0m\u001b[0mhandler\u001b[0m\u001b[0;34m,\u001b[0m \u001b[0mmeth_name\u001b[0m\u001b[0;34m)\u001b[0m\u001b[0;34m\u001b[0m\u001b[0m\n\u001b[1;32m    406\u001b[0m \u001b[0;34m\u001b[0m\u001b[0m\n\u001b[0;32m--> 407\u001b[0;31m             \u001b[0mresult\u001b[0m \u001b[0;34m=\u001b[0m \u001b[0mfunc\u001b[0m\u001b[0;34m(\u001b[0m\u001b[0;34m*\u001b[0m\u001b[0margs\u001b[0m\u001b[0;34m)\u001b[0m\u001b[0;34m\u001b[0m\u001b[0m\n\u001b[0m\u001b[1;32m    408\u001b[0m             \u001b[0;32mif\u001b[0m \u001b[0mresult\u001b[0m \u001b[0;32mis\u001b[0m \u001b[0;32mnot\u001b[0m \u001b[0mNone\u001b[0m\u001b[0;34m:\u001b[0m\u001b[0;34m\u001b[0m\u001b[0m\n\u001b[1;32m    409\u001b[0m                 \u001b[0;32mreturn\u001b[0m \u001b[0mresult\u001b[0m\u001b[0;34m\u001b[0m\u001b[0m\n",
      "\u001b[0;32m/Users/zhuonijie/anaconda2/lib/python2.7/urllib2.pyc\u001b[0m in \u001b[0;36mhttp_error_default\u001b[0;34m(self, req, fp, code, msg, hdrs)\u001b[0m\n\u001b[1;32m    554\u001b[0m \u001b[0;32mclass\u001b[0m \u001b[0mHTTPDefaultErrorHandler\u001b[0m\u001b[0;34m(\u001b[0m\u001b[0mBaseHandler\u001b[0m\u001b[0;34m)\u001b[0m\u001b[0;34m:\u001b[0m\u001b[0;34m\u001b[0m\u001b[0m\n\u001b[1;32m    555\u001b[0m     \u001b[0;32mdef\u001b[0m \u001b[0mhttp_error_default\u001b[0m\u001b[0;34m(\u001b[0m\u001b[0mself\u001b[0m\u001b[0;34m,\u001b[0m \u001b[0mreq\u001b[0m\u001b[0;34m,\u001b[0m \u001b[0mfp\u001b[0m\u001b[0;34m,\u001b[0m \u001b[0mcode\u001b[0m\u001b[0;34m,\u001b[0m \u001b[0mmsg\u001b[0m\u001b[0;34m,\u001b[0m \u001b[0mhdrs\u001b[0m\u001b[0;34m)\u001b[0m\u001b[0;34m:\u001b[0m\u001b[0;34m\u001b[0m\u001b[0m\n\u001b[0;32m--> 556\u001b[0;31m         \u001b[0;32mraise\u001b[0m \u001b[0mHTTPError\u001b[0m\u001b[0;34m(\u001b[0m\u001b[0mreq\u001b[0m\u001b[0;34m.\u001b[0m\u001b[0mget_full_url\u001b[0m\u001b[0;34m(\u001b[0m\u001b[0;34m)\u001b[0m\u001b[0;34m,\u001b[0m \u001b[0mcode\u001b[0m\u001b[0;34m,\u001b[0m \u001b[0mmsg\u001b[0m\u001b[0;34m,\u001b[0m \u001b[0mhdrs\u001b[0m\u001b[0;34m,\u001b[0m \u001b[0mfp\u001b[0m\u001b[0;34m)\u001b[0m\u001b[0;34m\u001b[0m\u001b[0m\n\u001b[0m\u001b[1;32m    557\u001b[0m \u001b[0;34m\u001b[0m\u001b[0m\n\u001b[1;32m    558\u001b[0m \u001b[0;32mclass\u001b[0m \u001b[0mHTTPRedirectHandler\u001b[0m\u001b[0;34m(\u001b[0m\u001b[0mBaseHandler\u001b[0m\u001b[0;34m)\u001b[0m\u001b[0;34m:\u001b[0m\u001b[0;34m\u001b[0m\u001b[0m\n",
      "\u001b[0;31mHTTPError\u001b[0m: HTTP Error 429: Too Many Requests"
     ]
    }
   ],
   "source": [
    "i=0\n",
    "# With summoner id list, we get their 10 recent games one by one\n",
    "for gamer in uniidlist:\n",
    "    idURL,id_data=ReformatJSONbyid(str(gamer),Region,Key)\n",
    "    # Because of the API call limit, we have to use time.sleep()\n",
    "    time.sleep(0.8)\n",
    "    rdata=getRecentHistory(gamer)\n",
    "    i += 1\n",
    "    print i\n",
    "    time.sleep(0.8)"
   ]
  },
  {
   "cell_type": "code",
   "execution_count": 9,
   "metadata": {
    "collapsed": true
   },
   "outputs": [],
   "source": [
    "i = 30000"
   ]
  },
  {
   "cell_type": "code",
   "execution_count": 72,
   "metadata": {
    "collapsed": false,
    "scrolled": true
   },
   "outputs": [
    {
     "name": "stdout",
     "output_type": "stream",
     "text": [
      "39553\n",
      "39554\n",
      "39555\n",
      "39556\n",
      "39557\n",
      "39558\n",
      "39559\n",
      "39560\n",
      "39561\n",
      "39562\n",
      "39563\n",
      "39564\n",
      "39565\n",
      "39566\n",
      "39567\n",
      "39568\n",
      "39569\n",
      "39570\n",
      "39571\n",
      "39572\n",
      "39573\n",
      "39574\n",
      "39575\n",
      "39576\n",
      "39577\n",
      "39578\n",
      "39579\n",
      "39580\n",
      "39581\n",
      "39582\n",
      "39583\n",
      "39584\n",
      "39585\n",
      "39586\n",
      "39587\n",
      "39588\n",
      "39589\n",
      "39590\n",
      "39591\n",
      "39592\n",
      "39593\n",
      "39594\n",
      "39595\n",
      "39596\n",
      "39597\n",
      "39598\n",
      "39599\n",
      "39600\n",
      "39601\n",
      "39602\n",
      "39603\n",
      "39604\n",
      "39605\n",
      "39606\n",
      "39607\n",
      "39608\n",
      "39609\n",
      "39610\n",
      "39611\n",
      "39612\n",
      "39613\n",
      "39614\n",
      "39615\n",
      "39616\n",
      "39617\n",
      "39618\n",
      "39619\n",
      "39620\n",
      "39621\n",
      "39622\n",
      "39623\n",
      "39624\n",
      "39625\n",
      "39626\n",
      "39627\n",
      "39628\n",
      "39629\n",
      "39630\n",
      "39631\n",
      "39632\n",
      "39633\n",
      "39634\n",
      "39635\n",
      "39636\n",
      "39637\n",
      "39638\n",
      "39639\n",
      "39640\n",
      "39641\n",
      "39642\n",
      "39643\n",
      "39644\n",
      "39645\n",
      "39646\n",
      "39647\n",
      "39648\n",
      "39649\n",
      "39650\n",
      "39651\n",
      "39652\n",
      "39653\n",
      "39654\n",
      "39655\n",
      "39656\n",
      "39657\n",
      "39658\n",
      "39659\n",
      "39660\n",
      "39661\n",
      "39662\n",
      "39663\n",
      "39664\n",
      "39665\n",
      "39666\n",
      "39667\n",
      "39668\n",
      "39669\n",
      "39670\n",
      "39671\n",
      "39672\n",
      "39673\n",
      "39674\n",
      "39675\n",
      "39676\n",
      "39677\n",
      "39678\n",
      "39679\n",
      "39680\n",
      "39681\n",
      "39682\n",
      "39683\n",
      "39684\n",
      "39685\n",
      "39686\n",
      "39687\n",
      "39688\n",
      "39689\n",
      "39690\n",
      "39691\n",
      "39692\n",
      "39693\n",
      "39694\n",
      "39695\n",
      "39696\n",
      "39697\n",
      "39698\n",
      "39699\n",
      "39700\n",
      "39701\n",
      "39702\n",
      "39703\n",
      "39704\n",
      "39705\n",
      "39706\n",
      "39707\n",
      "39708\n",
      "39709\n",
      "39710\n",
      "39711\n",
      "39712\n",
      "39713\n",
      "39714\n",
      "39715\n",
      "39716\n",
      "39717\n",
      "39718\n",
      "39719\n",
      "39720\n",
      "39721\n"
     ]
    },
    {
     "ename": "HTTPError",
     "evalue": "HTTP Error 500: Server Error",
     "output_type": "error",
     "traceback": [
      "\u001b[0;31m---------------------------------------------------------------------------\u001b[0m",
      "\u001b[0;31mHTTPError\u001b[0m                                 Traceback (most recent call last)",
      "\u001b[0;32m<ipython-input-72-864835b0cd82>\u001b[0m in \u001b[0;36m<module>\u001b[0;34m()\u001b[0m\n\u001b[1;32m      2\u001b[0m     \u001b[0midURL\u001b[0m\u001b[0;34m,\u001b[0m\u001b[0mid_data\u001b[0m\u001b[0;34m=\u001b[0m\u001b[0mReformatJSONbyid\u001b[0m\u001b[0;34m(\u001b[0m\u001b[0mstr\u001b[0m\u001b[0;34m(\u001b[0m\u001b[0mgamer\u001b[0m\u001b[0;34m)\u001b[0m\u001b[0;34m,\u001b[0m\u001b[0mRegion\u001b[0m\u001b[0;34m,\u001b[0m\u001b[0mKey\u001b[0m\u001b[0;34m)\u001b[0m\u001b[0;34m\u001b[0m\u001b[0m\n\u001b[1;32m      3\u001b[0m     \u001b[0mtime\u001b[0m\u001b[0;34m.\u001b[0m\u001b[0msleep\u001b[0m\u001b[0;34m(\u001b[0m\u001b[0;36m0.8\u001b[0m\u001b[0;34m)\u001b[0m\u001b[0;34m\u001b[0m\u001b[0m\n\u001b[0;32m----> 4\u001b[0;31m     \u001b[0mrdata\u001b[0m\u001b[0;34m=\u001b[0m\u001b[0mgetRecentHistory\u001b[0m\u001b[0;34m(\u001b[0m\u001b[0mstr\u001b[0m\u001b[0;34m(\u001b[0m\u001b[0mgamer\u001b[0m\u001b[0;34m)\u001b[0m\u001b[0;34m)\u001b[0m\u001b[0;34m\u001b[0m\u001b[0m\n\u001b[0m\u001b[1;32m      5\u001b[0m     \u001b[0mi\u001b[0m \u001b[0;34m+=\u001b[0m \u001b[0;36m1\u001b[0m\u001b[0;34m\u001b[0m\u001b[0m\n\u001b[1;32m      6\u001b[0m     \u001b[0;32mprint\u001b[0m \u001b[0mi\u001b[0m\u001b[0;34m\u001b[0m\u001b[0m\n",
      "\u001b[0;32m<ipython-input-56-d20dba402e43>\u001b[0m in \u001b[0;36mgetRecentHistory\u001b[0;34m(SummonerID)\u001b[0m\n\u001b[1;32m     26\u001b[0m \u001b[0;32mdef\u001b[0m \u001b[0mgetRecentHistory\u001b[0m\u001b[0;34m(\u001b[0m\u001b[0mSummonerID\u001b[0m\u001b[0;34m)\u001b[0m\u001b[0;34m:\u001b[0m\u001b[0;34m\u001b[0m\u001b[0m\n\u001b[1;32m     27\u001b[0m         \u001b[0mrURL\u001b[0m\u001b[0;34m=\u001b[0m \u001b[0;34m\"https://\"\u001b[0m \u001b[0;34m+\u001b[0m\u001b[0mRegion\u001b[0m\u001b[0;34m.\u001b[0m\u001b[0mlower\u001b[0m\u001b[0;34m(\u001b[0m\u001b[0;34m)\u001b[0m\u001b[0;34m+\u001b[0m \u001b[0;34m\".api.pvp.net/api/lol/\"\u001b[0m \u001b[0;34m+\u001b[0m         \u001b[0mRegion\u001b[0m\u001b[0;34m.\u001b[0m\u001b[0mlower\u001b[0m\u001b[0;34m(\u001b[0m\u001b[0;34m)\u001b[0m\u001b[0;34m+\u001b[0m \u001b[0;34m\"/v1.3/game/by-summoner/\"\u001b[0m \u001b[0;34m+\u001b[0m \u001b[0mSummonerID\u001b[0m\u001b[0;34m+\u001b[0m \u001b[0;34m\"/recent?api_key=\"\u001b[0m \u001b[0;34m+\u001b[0m \u001b[0mKey\u001b[0m\u001b[0;34m;\u001b[0m\u001b[0;34m\u001b[0m\u001b[0m\n\u001b[0;32m---> 28\u001b[0;31m         \u001b[0mr_data\u001b[0m\u001b[0;34m=\u001b[0m\u001b[0mgetJSONReply\u001b[0m\u001b[0;34m(\u001b[0m\u001b[0mrURL\u001b[0m\u001b[0;34m)\u001b[0m\u001b[0;34m;\u001b[0m\u001b[0;34m\u001b[0m\u001b[0m\n\u001b[0m\u001b[1;32m     29\u001b[0m         \u001b[0mr_data\u001b[0m\u001b[0;34m[\u001b[0m\u001b[0;34m'_id'\u001b[0m\u001b[0;34m]\u001b[0m\u001b[0;34m=\u001b[0m\u001b[0mr_data\u001b[0m\u001b[0;34m[\u001b[0m\u001b[0;34m'summonerId'\u001b[0m\u001b[0;34m]\u001b[0m\u001b[0;34m;\u001b[0m\u001b[0;34m\u001b[0m\u001b[0m\n\u001b[1;32m     30\u001b[0m         \u001b[0mr_data\u001b[0m\u001b[0;34m.\u001b[0m\u001b[0mpop\u001b[0m\u001b[0;34m(\u001b[0m\u001b[0;34m'summonerId'\u001b[0m\u001b[0;34m)\u001b[0m\u001b[0;34m;\u001b[0m\u001b[0;34m\u001b[0m\u001b[0m\n",
      "\u001b[0;32m<ipython-input-56-d20dba402e43>\u001b[0m in \u001b[0;36mgetJSONReply\u001b[0;34m(URL)\u001b[0m\n\u001b[1;32m      1\u001b[0m \u001b[0;31m# Get JSON reply using the URL\u001b[0m\u001b[0;34m\u001b[0m\u001b[0;34m\u001b[0m\u001b[0m\n\u001b[1;32m      2\u001b[0m \u001b[0;32mdef\u001b[0m \u001b[0mgetJSONReply\u001b[0m\u001b[0;34m(\u001b[0m\u001b[0mURL\u001b[0m\u001b[0;34m)\u001b[0m\u001b[0;34m:\u001b[0m\u001b[0;34m\u001b[0m\u001b[0m\n\u001b[0;32m----> 3\u001b[0;31m     \u001b[0mresponse\u001b[0m \u001b[0;34m=\u001b[0m \u001b[0murllib2\u001b[0m\u001b[0;34m.\u001b[0m\u001b[0murlopen\u001b[0m\u001b[0;34m(\u001b[0m\u001b[0mURL\u001b[0m\u001b[0;34m)\u001b[0m\u001b[0;34m;\u001b[0m\u001b[0;34m\u001b[0m\u001b[0m\n\u001b[0m\u001b[1;32m      4\u001b[0m     \u001b[0mhtml\u001b[0m \u001b[0;34m=\u001b[0m \u001b[0mresponse\u001b[0m\u001b[0;34m.\u001b[0m\u001b[0mread\u001b[0m\u001b[0;34m(\u001b[0m\u001b[0;34m)\u001b[0m\u001b[0;34m;\u001b[0m\u001b[0;34m\u001b[0m\u001b[0m\n\u001b[1;32m      5\u001b[0m     \u001b[0mdata\u001b[0m \u001b[0;34m=\u001b[0m \u001b[0mjson\u001b[0m\u001b[0;34m.\u001b[0m\u001b[0mloads\u001b[0m\u001b[0;34m(\u001b[0m\u001b[0mhtml\u001b[0m\u001b[0;34m)\u001b[0m\u001b[0;34m;\u001b[0m\u001b[0;34m\u001b[0m\u001b[0m\n",
      "\u001b[0;32m/Users/zhuonijie/anaconda2/lib/python2.7/urllib2.pyc\u001b[0m in \u001b[0;36murlopen\u001b[0;34m(url, data, timeout, cafile, capath, cadefault, context)\u001b[0m\n\u001b[1;32m    152\u001b[0m     \u001b[0;32melse\u001b[0m\u001b[0;34m:\u001b[0m\u001b[0;34m\u001b[0m\u001b[0m\n\u001b[1;32m    153\u001b[0m         \u001b[0mopener\u001b[0m \u001b[0;34m=\u001b[0m \u001b[0m_opener\u001b[0m\u001b[0;34m\u001b[0m\u001b[0m\n\u001b[0;32m--> 154\u001b[0;31m     \u001b[0;32mreturn\u001b[0m \u001b[0mopener\u001b[0m\u001b[0;34m.\u001b[0m\u001b[0mopen\u001b[0m\u001b[0;34m(\u001b[0m\u001b[0murl\u001b[0m\u001b[0;34m,\u001b[0m \u001b[0mdata\u001b[0m\u001b[0;34m,\u001b[0m \u001b[0mtimeout\u001b[0m\u001b[0;34m)\u001b[0m\u001b[0;34m\u001b[0m\u001b[0m\n\u001b[0m\u001b[1;32m    155\u001b[0m \u001b[0;34m\u001b[0m\u001b[0m\n\u001b[1;32m    156\u001b[0m \u001b[0;32mdef\u001b[0m \u001b[0minstall_opener\u001b[0m\u001b[0;34m(\u001b[0m\u001b[0mopener\u001b[0m\u001b[0;34m)\u001b[0m\u001b[0;34m:\u001b[0m\u001b[0;34m\u001b[0m\u001b[0m\n",
      "\u001b[0;32m/Users/zhuonijie/anaconda2/lib/python2.7/urllib2.pyc\u001b[0m in \u001b[0;36mopen\u001b[0;34m(self, fullurl, data, timeout)\u001b[0m\n\u001b[1;32m    433\u001b[0m         \u001b[0;32mfor\u001b[0m \u001b[0mprocessor\u001b[0m \u001b[0;32min\u001b[0m \u001b[0mself\u001b[0m\u001b[0;34m.\u001b[0m\u001b[0mprocess_response\u001b[0m\u001b[0;34m.\u001b[0m\u001b[0mget\u001b[0m\u001b[0;34m(\u001b[0m\u001b[0mprotocol\u001b[0m\u001b[0;34m,\u001b[0m \u001b[0;34m[\u001b[0m\u001b[0;34m]\u001b[0m\u001b[0;34m)\u001b[0m\u001b[0;34m:\u001b[0m\u001b[0;34m\u001b[0m\u001b[0m\n\u001b[1;32m    434\u001b[0m             \u001b[0mmeth\u001b[0m \u001b[0;34m=\u001b[0m \u001b[0mgetattr\u001b[0m\u001b[0;34m(\u001b[0m\u001b[0mprocessor\u001b[0m\u001b[0;34m,\u001b[0m \u001b[0mmeth_name\u001b[0m\u001b[0;34m)\u001b[0m\u001b[0;34m\u001b[0m\u001b[0m\n\u001b[0;32m--> 435\u001b[0;31m             \u001b[0mresponse\u001b[0m \u001b[0;34m=\u001b[0m \u001b[0mmeth\u001b[0m\u001b[0;34m(\u001b[0m\u001b[0mreq\u001b[0m\u001b[0;34m,\u001b[0m \u001b[0mresponse\u001b[0m\u001b[0;34m)\u001b[0m\u001b[0;34m\u001b[0m\u001b[0m\n\u001b[0m\u001b[1;32m    436\u001b[0m \u001b[0;34m\u001b[0m\u001b[0m\n\u001b[1;32m    437\u001b[0m         \u001b[0;32mreturn\u001b[0m \u001b[0mresponse\u001b[0m\u001b[0;34m\u001b[0m\u001b[0m\n",
      "\u001b[0;32m/Users/zhuonijie/anaconda2/lib/python2.7/urllib2.pyc\u001b[0m in \u001b[0;36mhttp_response\u001b[0;34m(self, request, response)\u001b[0m\n\u001b[1;32m    546\u001b[0m         \u001b[0;32mif\u001b[0m \u001b[0;32mnot\u001b[0m \u001b[0;34m(\u001b[0m\u001b[0;36m200\u001b[0m \u001b[0;34m<=\u001b[0m \u001b[0mcode\u001b[0m \u001b[0;34m<\u001b[0m \u001b[0;36m300\u001b[0m\u001b[0;34m)\u001b[0m\u001b[0;34m:\u001b[0m\u001b[0;34m\u001b[0m\u001b[0m\n\u001b[1;32m    547\u001b[0m             response = self.parent.error(\n\u001b[0;32m--> 548\u001b[0;31m                 'http', request, response, code, msg, hdrs)\n\u001b[0m\u001b[1;32m    549\u001b[0m \u001b[0;34m\u001b[0m\u001b[0m\n\u001b[1;32m    550\u001b[0m         \u001b[0;32mreturn\u001b[0m \u001b[0mresponse\u001b[0m\u001b[0;34m\u001b[0m\u001b[0m\n",
      "\u001b[0;32m/Users/zhuonijie/anaconda2/lib/python2.7/urllib2.pyc\u001b[0m in \u001b[0;36merror\u001b[0;34m(self, proto, *args)\u001b[0m\n\u001b[1;32m    471\u001b[0m         \u001b[0;32mif\u001b[0m \u001b[0mhttp_err\u001b[0m\u001b[0;34m:\u001b[0m\u001b[0;34m\u001b[0m\u001b[0m\n\u001b[1;32m    472\u001b[0m             \u001b[0margs\u001b[0m \u001b[0;34m=\u001b[0m \u001b[0;34m(\u001b[0m\u001b[0mdict\u001b[0m\u001b[0;34m,\u001b[0m \u001b[0;34m'default'\u001b[0m\u001b[0;34m,\u001b[0m \u001b[0;34m'http_error_default'\u001b[0m\u001b[0;34m)\u001b[0m \u001b[0;34m+\u001b[0m \u001b[0morig_args\u001b[0m\u001b[0;34m\u001b[0m\u001b[0m\n\u001b[0;32m--> 473\u001b[0;31m             \u001b[0;32mreturn\u001b[0m \u001b[0mself\u001b[0m\u001b[0;34m.\u001b[0m\u001b[0m_call_chain\u001b[0m\u001b[0;34m(\u001b[0m\u001b[0;34m*\u001b[0m\u001b[0margs\u001b[0m\u001b[0;34m)\u001b[0m\u001b[0;34m\u001b[0m\u001b[0m\n\u001b[0m\u001b[1;32m    474\u001b[0m \u001b[0;34m\u001b[0m\u001b[0m\n\u001b[1;32m    475\u001b[0m \u001b[0;31m# XXX probably also want an abstract factory that knows when it makes\u001b[0m\u001b[0;34m\u001b[0m\u001b[0;34m\u001b[0m\u001b[0m\n",
      "\u001b[0;32m/Users/zhuonijie/anaconda2/lib/python2.7/urllib2.pyc\u001b[0m in \u001b[0;36m_call_chain\u001b[0;34m(self, chain, kind, meth_name, *args)\u001b[0m\n\u001b[1;32m    405\u001b[0m             \u001b[0mfunc\u001b[0m \u001b[0;34m=\u001b[0m \u001b[0mgetattr\u001b[0m\u001b[0;34m(\u001b[0m\u001b[0mhandler\u001b[0m\u001b[0;34m,\u001b[0m \u001b[0mmeth_name\u001b[0m\u001b[0;34m)\u001b[0m\u001b[0;34m\u001b[0m\u001b[0m\n\u001b[1;32m    406\u001b[0m \u001b[0;34m\u001b[0m\u001b[0m\n\u001b[0;32m--> 407\u001b[0;31m             \u001b[0mresult\u001b[0m \u001b[0;34m=\u001b[0m \u001b[0mfunc\u001b[0m\u001b[0;34m(\u001b[0m\u001b[0;34m*\u001b[0m\u001b[0margs\u001b[0m\u001b[0;34m)\u001b[0m\u001b[0;34m\u001b[0m\u001b[0m\n\u001b[0m\u001b[1;32m    408\u001b[0m             \u001b[0;32mif\u001b[0m \u001b[0mresult\u001b[0m \u001b[0;32mis\u001b[0m \u001b[0;32mnot\u001b[0m \u001b[0mNone\u001b[0m\u001b[0;34m:\u001b[0m\u001b[0;34m\u001b[0m\u001b[0m\n\u001b[1;32m    409\u001b[0m                 \u001b[0;32mreturn\u001b[0m \u001b[0mresult\u001b[0m\u001b[0;34m\u001b[0m\u001b[0m\n",
      "\u001b[0;32m/Users/zhuonijie/anaconda2/lib/python2.7/urllib2.pyc\u001b[0m in \u001b[0;36mhttp_error_default\u001b[0;34m(self, req, fp, code, msg, hdrs)\u001b[0m\n\u001b[1;32m    554\u001b[0m \u001b[0;32mclass\u001b[0m \u001b[0mHTTPDefaultErrorHandler\u001b[0m\u001b[0;34m(\u001b[0m\u001b[0mBaseHandler\u001b[0m\u001b[0;34m)\u001b[0m\u001b[0;34m:\u001b[0m\u001b[0;34m\u001b[0m\u001b[0m\n\u001b[1;32m    555\u001b[0m     \u001b[0;32mdef\u001b[0m \u001b[0mhttp_error_default\u001b[0m\u001b[0;34m(\u001b[0m\u001b[0mself\u001b[0m\u001b[0;34m,\u001b[0m \u001b[0mreq\u001b[0m\u001b[0;34m,\u001b[0m \u001b[0mfp\u001b[0m\u001b[0;34m,\u001b[0m \u001b[0mcode\u001b[0m\u001b[0;34m,\u001b[0m \u001b[0mmsg\u001b[0m\u001b[0;34m,\u001b[0m \u001b[0mhdrs\u001b[0m\u001b[0;34m)\u001b[0m\u001b[0;34m:\u001b[0m\u001b[0;34m\u001b[0m\u001b[0m\n\u001b[0;32m--> 556\u001b[0;31m         \u001b[0;32mraise\u001b[0m \u001b[0mHTTPError\u001b[0m\u001b[0;34m(\u001b[0m\u001b[0mreq\u001b[0m\u001b[0;34m.\u001b[0m\u001b[0mget_full_url\u001b[0m\u001b[0;34m(\u001b[0m\u001b[0;34m)\u001b[0m\u001b[0;34m,\u001b[0m \u001b[0mcode\u001b[0m\u001b[0;34m,\u001b[0m \u001b[0mmsg\u001b[0m\u001b[0;34m,\u001b[0m \u001b[0mhdrs\u001b[0m\u001b[0;34m,\u001b[0m \u001b[0mfp\u001b[0m\u001b[0;34m)\u001b[0m\u001b[0;34m\u001b[0m\u001b[0m\n\u001b[0m\u001b[1;32m    557\u001b[0m \u001b[0;34m\u001b[0m\u001b[0m\n\u001b[1;32m    558\u001b[0m \u001b[0;32mclass\u001b[0m \u001b[0mHTTPRedirectHandler\u001b[0m\u001b[0;34m(\u001b[0m\u001b[0mBaseHandler\u001b[0m\u001b[0;34m)\u001b[0m\u001b[0;34m:\u001b[0m\u001b[0;34m\u001b[0m\u001b[0m\n",
      "\u001b[0;31mHTTPError\u001b[0m: HTTP Error 500: Server Error"
     ]
    }
   ],
   "source": [
    "for gamer in uniidlist[39552:]:\n",
    "    idURL,id_data=ReformatJSONbyid(str(gamer),Region,Key)\n",
    "    time.sleep(0.8)\n",
    "    rdata=getRecentHistory(str(gamer))\n",
    "    i += 1\n",
    "    print i\n",
    "    time.sleep(0.8)"
   ]
  },
  {
   "cell_type": "code",
   "execution_count": 363,
   "metadata": {
    "collapsed": true
   },
   "outputs": [],
   "source": [
    "def f(x):\n",
    "    i=0\n",
    "    for gamer in uniidlist[x:x+101]:\n",
    "        idURL,id_data=ReformatJSONbyid(str(gamer),Region,Key)\n",
    "        time.sleep(0.8)\n",
    "        rdata=getRecentHistory(gamer)\n",
    "        i += 1\n",
    "        print i\n",
    "        time.sleep(0.8)"
   ]
  },
  {
   "cell_type": "code",
   "execution_count": 364,
   "metadata": {
    "collapsed": true
   },
   "outputs": [
    {
     "name": "stdout",
     "output_type": "stream",
     "text": [
      "1\n",
      "2\n",
      "3\n",
      "4\n"
     ]
    },
    {
     "ename": "HTTPError",
     "evalue": "HTTP Error 500: Server Error",
     "output_type": "error",
     "traceback": [
      "\u001b[0;31m---------------------------------------------------------------------------\u001b[0m",
      "\u001b[0;31mHTTPError\u001b[0m                                 Traceback (most recent call last)",
      "\u001b[0;32m<ipython-input-364-4fea1b845fca>\u001b[0m in \u001b[0;36m<module>\u001b[0;34m()\u001b[0m\n\u001b[0;32m----> 1\u001b[0;31m \u001b[0mmap\u001b[0m\u001b[0;34m(\u001b[0m\u001b[0mf\u001b[0m\u001b[0;34m,\u001b[0m\u001b[0;34m[\u001b[0m\u001b[0;36m8443\u001b[0m\u001b[0;34m,\u001b[0m\u001b[0;36m8543\u001b[0m\u001b[0;34m]\u001b[0m\u001b[0;34m)\u001b[0m\u001b[0;34m\u001b[0m\u001b[0m\n\u001b[0m",
      "\u001b[0;32m<ipython-input-363-afe597d52cd2>\u001b[0m in \u001b[0;36mf\u001b[0;34m(x)\u001b[0m\n\u001b[1;32m      2\u001b[0m     \u001b[0mi\u001b[0m\u001b[0;34m=\u001b[0m\u001b[0;36m0\u001b[0m\u001b[0;34m\u001b[0m\u001b[0m\n\u001b[1;32m      3\u001b[0m     \u001b[0;32mfor\u001b[0m \u001b[0mgamer\u001b[0m \u001b[0;32min\u001b[0m \u001b[0muniidlist\u001b[0m\u001b[0;34m[\u001b[0m\u001b[0mx\u001b[0m\u001b[0;34m:\u001b[0m\u001b[0mx\u001b[0m\u001b[0;34m+\u001b[0m\u001b[0;36m101\u001b[0m\u001b[0;34m]\u001b[0m\u001b[0;34m:\u001b[0m\u001b[0;34m\u001b[0m\u001b[0m\n\u001b[0;32m----> 4\u001b[0;31m         \u001b[0midURL\u001b[0m\u001b[0;34m,\u001b[0m\u001b[0mid_data\u001b[0m\u001b[0;34m=\u001b[0m\u001b[0mReformatJSONbyid\u001b[0m\u001b[0;34m(\u001b[0m\u001b[0mstr\u001b[0m\u001b[0;34m(\u001b[0m\u001b[0mgamer\u001b[0m\u001b[0;34m)\u001b[0m\u001b[0;34m,\u001b[0m\u001b[0mRegion\u001b[0m\u001b[0;34m,\u001b[0m\u001b[0mKey\u001b[0m\u001b[0;34m)\u001b[0m\u001b[0;34m\u001b[0m\u001b[0m\n\u001b[0m\u001b[1;32m      5\u001b[0m         \u001b[0mtime\u001b[0m\u001b[0;34m.\u001b[0m\u001b[0msleep\u001b[0m\u001b[0;34m(\u001b[0m\u001b[0;36m0.8\u001b[0m\u001b[0;34m)\u001b[0m\u001b[0;34m\u001b[0m\u001b[0m\n\u001b[1;32m      6\u001b[0m         \u001b[0mrdata\u001b[0m\u001b[0;34m=\u001b[0m\u001b[0mgetRecentHistory\u001b[0m\u001b[0;34m(\u001b[0m\u001b[0mgamer\u001b[0m\u001b[0;34m)\u001b[0m\u001b[0;34m\u001b[0m\u001b[0m\n",
      "\u001b[0;32m<ipython-input-288-948ffd5c84ce>\u001b[0m in \u001b[0;36mReformatJSONbyid\u001b[0;34m(SummonerID, Region, Key)\u001b[0m\n\u001b[1;32m     64\u001b[0m \u001b[0;32mdef\u001b[0m \u001b[0mReformatJSONbyid\u001b[0m\u001b[0;34m(\u001b[0m\u001b[0mSummonerID\u001b[0m\u001b[0;34m,\u001b[0m\u001b[0mRegion\u001b[0m\u001b[0;34m,\u001b[0m\u001b[0mKey\u001b[0m\u001b[0;34m)\u001b[0m\u001b[0;34m:\u001b[0m\u001b[0;34m\u001b[0m\u001b[0m\n\u001b[1;32m     65\u001b[0m     \u001b[0midURL\u001b[0m \u001b[0;34m=\u001b[0m \u001b[0;34m\"https://\"\u001b[0m \u001b[0;34m+\u001b[0m\u001b[0mRegion\u001b[0m\u001b[0;34m.\u001b[0m\u001b[0mlower\u001b[0m\u001b[0;34m(\u001b[0m\u001b[0;34m)\u001b[0m\u001b[0;34m+\u001b[0m \u001b[0;34m\".api.pvp.net/api/lol/\"\u001b[0m \u001b[0;34m+\u001b[0m\u001b[0mRegion\u001b[0m\u001b[0;34m.\u001b[0m\u001b[0mlower\u001b[0m\u001b[0;34m(\u001b[0m\u001b[0;34m)\u001b[0m\u001b[0;34m+\u001b[0m \u001b[0;34m\"/v1.4/summoner/\"\u001b[0m \u001b[0;34m+\u001b[0m\u001b[0mSummonerID\u001b[0m\u001b[0;34m+\u001b[0m \u001b[0;34m\"?api_key=\"\u001b[0m \u001b[0;34m+\u001b[0m\u001b[0mKey\u001b[0m\u001b[0;34m\u001b[0m\u001b[0m\n\u001b[0;32m---> 66\u001b[0;31m     \u001b[0mid_data\u001b[0m \u001b[0;34m=\u001b[0m \u001b[0mgetJSONReply\u001b[0m\u001b[0;34m(\u001b[0m\u001b[0midURL\u001b[0m\u001b[0;34m)\u001b[0m\u001b[0;34m;\u001b[0m\u001b[0;34m\u001b[0m\u001b[0m\n\u001b[0m\u001b[1;32m     67\u001b[0m     \u001b[0midRes\u001b[0m\u001b[0;34m=\u001b[0m\u001b[0mid_data\u001b[0m\u001b[0;34m[\u001b[0m\u001b[0mSummonerID\u001b[0m\u001b[0;34m]\u001b[0m\u001b[0;34m;\u001b[0m\u001b[0;34m\u001b[0m\u001b[0m\n\u001b[1;32m     68\u001b[0m     \u001b[0midRes\u001b[0m\u001b[0;34m[\u001b[0m\u001b[0;34m'_id'\u001b[0m\u001b[0;34m]\u001b[0m \u001b[0;34m=\u001b[0m \u001b[0midRes\u001b[0m\u001b[0;34m[\u001b[0m\u001b[0;34m'id'\u001b[0m\u001b[0;34m]\u001b[0m\u001b[0;34m;\u001b[0m\u001b[0;34m\u001b[0m\u001b[0m\n",
      "\u001b[0;32m<ipython-input-288-948ffd5c84ce>\u001b[0m in \u001b[0;36mgetJSONReply\u001b[0;34m(URL)\u001b[0m\n\u001b[1;32m      1\u001b[0m \u001b[0;32mdef\u001b[0m \u001b[0mgetJSONReply\u001b[0m\u001b[0;34m(\u001b[0m\u001b[0mURL\u001b[0m\u001b[0;34m)\u001b[0m\u001b[0;34m:\u001b[0m\u001b[0;34m\u001b[0m\u001b[0m\n\u001b[0;32m----> 2\u001b[0;31m     \u001b[0mresponse\u001b[0m \u001b[0;34m=\u001b[0m \u001b[0murllib2\u001b[0m\u001b[0;34m.\u001b[0m\u001b[0murlopen\u001b[0m\u001b[0;34m(\u001b[0m\u001b[0mURL\u001b[0m\u001b[0;34m)\u001b[0m\u001b[0;34m;\u001b[0m\u001b[0;34m\u001b[0m\u001b[0m\n\u001b[0m\u001b[1;32m      3\u001b[0m     \u001b[0mhtml\u001b[0m \u001b[0;34m=\u001b[0m \u001b[0mresponse\u001b[0m\u001b[0;34m.\u001b[0m\u001b[0mread\u001b[0m\u001b[0;34m(\u001b[0m\u001b[0;34m)\u001b[0m\u001b[0;34m;\u001b[0m\u001b[0;34m\u001b[0m\u001b[0m\n\u001b[1;32m      4\u001b[0m     \u001b[0mdata\u001b[0m \u001b[0;34m=\u001b[0m \u001b[0mjson\u001b[0m\u001b[0;34m.\u001b[0m\u001b[0mloads\u001b[0m\u001b[0;34m(\u001b[0m\u001b[0mhtml\u001b[0m\u001b[0;34m)\u001b[0m\u001b[0;34m;\u001b[0m\u001b[0;34m\u001b[0m\u001b[0m\n\u001b[1;32m      5\u001b[0m     \u001b[0;32mreturn\u001b[0m \u001b[0mdata\u001b[0m\u001b[0;34m;\u001b[0m\u001b[0;34m\u001b[0m\u001b[0m\n",
      "\u001b[0;32m/Users/zhuonijie/anaconda2/lib/python2.7/urllib2.pyc\u001b[0m in \u001b[0;36murlopen\u001b[0;34m(url, data, timeout, cafile, capath, cadefault, context)\u001b[0m\n\u001b[1;32m    152\u001b[0m     \u001b[0;32melse\u001b[0m\u001b[0;34m:\u001b[0m\u001b[0;34m\u001b[0m\u001b[0m\n\u001b[1;32m    153\u001b[0m         \u001b[0mopener\u001b[0m \u001b[0;34m=\u001b[0m \u001b[0m_opener\u001b[0m\u001b[0;34m\u001b[0m\u001b[0m\n\u001b[0;32m--> 154\u001b[0;31m     \u001b[0;32mreturn\u001b[0m \u001b[0mopener\u001b[0m\u001b[0;34m.\u001b[0m\u001b[0mopen\u001b[0m\u001b[0;34m(\u001b[0m\u001b[0murl\u001b[0m\u001b[0;34m,\u001b[0m \u001b[0mdata\u001b[0m\u001b[0;34m,\u001b[0m \u001b[0mtimeout\u001b[0m\u001b[0;34m)\u001b[0m\u001b[0;34m\u001b[0m\u001b[0m\n\u001b[0m\u001b[1;32m    155\u001b[0m \u001b[0;34m\u001b[0m\u001b[0m\n\u001b[1;32m    156\u001b[0m \u001b[0;32mdef\u001b[0m \u001b[0minstall_opener\u001b[0m\u001b[0;34m(\u001b[0m\u001b[0mopener\u001b[0m\u001b[0;34m)\u001b[0m\u001b[0;34m:\u001b[0m\u001b[0;34m\u001b[0m\u001b[0m\n",
      "\u001b[0;32m/Users/zhuonijie/anaconda2/lib/python2.7/urllib2.pyc\u001b[0m in \u001b[0;36mopen\u001b[0;34m(self, fullurl, data, timeout)\u001b[0m\n\u001b[1;32m    433\u001b[0m         \u001b[0;32mfor\u001b[0m \u001b[0mprocessor\u001b[0m \u001b[0;32min\u001b[0m \u001b[0mself\u001b[0m\u001b[0;34m.\u001b[0m\u001b[0mprocess_response\u001b[0m\u001b[0;34m.\u001b[0m\u001b[0mget\u001b[0m\u001b[0;34m(\u001b[0m\u001b[0mprotocol\u001b[0m\u001b[0;34m,\u001b[0m \u001b[0;34m[\u001b[0m\u001b[0;34m]\u001b[0m\u001b[0;34m)\u001b[0m\u001b[0;34m:\u001b[0m\u001b[0;34m\u001b[0m\u001b[0m\n\u001b[1;32m    434\u001b[0m             \u001b[0mmeth\u001b[0m \u001b[0;34m=\u001b[0m \u001b[0mgetattr\u001b[0m\u001b[0;34m(\u001b[0m\u001b[0mprocessor\u001b[0m\u001b[0;34m,\u001b[0m \u001b[0mmeth_name\u001b[0m\u001b[0;34m)\u001b[0m\u001b[0;34m\u001b[0m\u001b[0m\n\u001b[0;32m--> 435\u001b[0;31m             \u001b[0mresponse\u001b[0m \u001b[0;34m=\u001b[0m \u001b[0mmeth\u001b[0m\u001b[0;34m(\u001b[0m\u001b[0mreq\u001b[0m\u001b[0;34m,\u001b[0m \u001b[0mresponse\u001b[0m\u001b[0;34m)\u001b[0m\u001b[0;34m\u001b[0m\u001b[0m\n\u001b[0m\u001b[1;32m    436\u001b[0m \u001b[0;34m\u001b[0m\u001b[0m\n\u001b[1;32m    437\u001b[0m         \u001b[0;32mreturn\u001b[0m \u001b[0mresponse\u001b[0m\u001b[0;34m\u001b[0m\u001b[0m\n",
      "\u001b[0;32m/Users/zhuonijie/anaconda2/lib/python2.7/urllib2.pyc\u001b[0m in \u001b[0;36mhttp_response\u001b[0;34m(self, request, response)\u001b[0m\n\u001b[1;32m    546\u001b[0m         \u001b[0;32mif\u001b[0m \u001b[0;32mnot\u001b[0m \u001b[0;34m(\u001b[0m\u001b[0;36m200\u001b[0m \u001b[0;34m<=\u001b[0m \u001b[0mcode\u001b[0m \u001b[0;34m<\u001b[0m \u001b[0;36m300\u001b[0m\u001b[0;34m)\u001b[0m\u001b[0;34m:\u001b[0m\u001b[0;34m\u001b[0m\u001b[0m\n\u001b[1;32m    547\u001b[0m             response = self.parent.error(\n\u001b[0;32m--> 548\u001b[0;31m                 'http', request, response, code, msg, hdrs)\n\u001b[0m\u001b[1;32m    549\u001b[0m \u001b[0;34m\u001b[0m\u001b[0m\n\u001b[1;32m    550\u001b[0m         \u001b[0;32mreturn\u001b[0m \u001b[0mresponse\u001b[0m\u001b[0;34m\u001b[0m\u001b[0m\n",
      "\u001b[0;32m/Users/zhuonijie/anaconda2/lib/python2.7/urllib2.pyc\u001b[0m in \u001b[0;36merror\u001b[0;34m(self, proto, *args)\u001b[0m\n\u001b[1;32m    471\u001b[0m         \u001b[0;32mif\u001b[0m \u001b[0mhttp_err\u001b[0m\u001b[0;34m:\u001b[0m\u001b[0;34m\u001b[0m\u001b[0m\n\u001b[1;32m    472\u001b[0m             \u001b[0margs\u001b[0m \u001b[0;34m=\u001b[0m \u001b[0;34m(\u001b[0m\u001b[0mdict\u001b[0m\u001b[0;34m,\u001b[0m \u001b[0;34m'default'\u001b[0m\u001b[0;34m,\u001b[0m \u001b[0;34m'http_error_default'\u001b[0m\u001b[0;34m)\u001b[0m \u001b[0;34m+\u001b[0m \u001b[0morig_args\u001b[0m\u001b[0;34m\u001b[0m\u001b[0m\n\u001b[0;32m--> 473\u001b[0;31m             \u001b[0;32mreturn\u001b[0m \u001b[0mself\u001b[0m\u001b[0;34m.\u001b[0m\u001b[0m_call_chain\u001b[0m\u001b[0;34m(\u001b[0m\u001b[0;34m*\u001b[0m\u001b[0margs\u001b[0m\u001b[0;34m)\u001b[0m\u001b[0;34m\u001b[0m\u001b[0m\n\u001b[0m\u001b[1;32m    474\u001b[0m \u001b[0;34m\u001b[0m\u001b[0m\n\u001b[1;32m    475\u001b[0m \u001b[0;31m# XXX probably also want an abstract factory that knows when it makes\u001b[0m\u001b[0;34m\u001b[0m\u001b[0;34m\u001b[0m\u001b[0m\n",
      "\u001b[0;32m/Users/zhuonijie/anaconda2/lib/python2.7/urllib2.pyc\u001b[0m in \u001b[0;36m_call_chain\u001b[0;34m(self, chain, kind, meth_name, *args)\u001b[0m\n\u001b[1;32m    405\u001b[0m             \u001b[0mfunc\u001b[0m \u001b[0;34m=\u001b[0m \u001b[0mgetattr\u001b[0m\u001b[0;34m(\u001b[0m\u001b[0mhandler\u001b[0m\u001b[0;34m,\u001b[0m \u001b[0mmeth_name\u001b[0m\u001b[0;34m)\u001b[0m\u001b[0;34m\u001b[0m\u001b[0m\n\u001b[1;32m    406\u001b[0m \u001b[0;34m\u001b[0m\u001b[0m\n\u001b[0;32m--> 407\u001b[0;31m             \u001b[0mresult\u001b[0m \u001b[0;34m=\u001b[0m \u001b[0mfunc\u001b[0m\u001b[0;34m(\u001b[0m\u001b[0;34m*\u001b[0m\u001b[0margs\u001b[0m\u001b[0;34m)\u001b[0m\u001b[0;34m\u001b[0m\u001b[0m\n\u001b[0m\u001b[1;32m    408\u001b[0m             \u001b[0;32mif\u001b[0m \u001b[0mresult\u001b[0m \u001b[0;32mis\u001b[0m \u001b[0;32mnot\u001b[0m \u001b[0mNone\u001b[0m\u001b[0;34m:\u001b[0m\u001b[0;34m\u001b[0m\u001b[0m\n\u001b[1;32m    409\u001b[0m                 \u001b[0;32mreturn\u001b[0m \u001b[0mresult\u001b[0m\u001b[0;34m\u001b[0m\u001b[0m\n",
      "\u001b[0;32m/Users/zhuonijie/anaconda2/lib/python2.7/urllib2.pyc\u001b[0m in \u001b[0;36mhttp_error_default\u001b[0;34m(self, req, fp, code, msg, hdrs)\u001b[0m\n\u001b[1;32m    554\u001b[0m \u001b[0;32mclass\u001b[0m \u001b[0mHTTPDefaultErrorHandler\u001b[0m\u001b[0;34m(\u001b[0m\u001b[0mBaseHandler\u001b[0m\u001b[0;34m)\u001b[0m\u001b[0;34m:\u001b[0m\u001b[0;34m\u001b[0m\u001b[0m\n\u001b[1;32m    555\u001b[0m     \u001b[0;32mdef\u001b[0m \u001b[0mhttp_error_default\u001b[0m\u001b[0;34m(\u001b[0m\u001b[0mself\u001b[0m\u001b[0;34m,\u001b[0m \u001b[0mreq\u001b[0m\u001b[0;34m,\u001b[0m \u001b[0mfp\u001b[0m\u001b[0;34m,\u001b[0m \u001b[0mcode\u001b[0m\u001b[0;34m,\u001b[0m \u001b[0mmsg\u001b[0m\u001b[0;34m,\u001b[0m \u001b[0mhdrs\u001b[0m\u001b[0;34m)\u001b[0m\u001b[0;34m:\u001b[0m\u001b[0;34m\u001b[0m\u001b[0m\n\u001b[0;32m--> 556\u001b[0;31m         \u001b[0;32mraise\u001b[0m \u001b[0mHTTPError\u001b[0m\u001b[0;34m(\u001b[0m\u001b[0mreq\u001b[0m\u001b[0;34m.\u001b[0m\u001b[0mget_full_url\u001b[0m\u001b[0;34m(\u001b[0m\u001b[0;34m)\u001b[0m\u001b[0;34m,\u001b[0m \u001b[0mcode\u001b[0m\u001b[0;34m,\u001b[0m \u001b[0mmsg\u001b[0m\u001b[0;34m,\u001b[0m \u001b[0mhdrs\u001b[0m\u001b[0;34m,\u001b[0m \u001b[0mfp\u001b[0m\u001b[0;34m)\u001b[0m\u001b[0;34m\u001b[0m\u001b[0m\n\u001b[0m\u001b[1;32m    557\u001b[0m \u001b[0;34m\u001b[0m\u001b[0m\n\u001b[1;32m    558\u001b[0m \u001b[0;32mclass\u001b[0m \u001b[0mHTTPRedirectHandler\u001b[0m\u001b[0;34m(\u001b[0m\u001b[0mBaseHandler\u001b[0m\u001b[0;34m)\u001b[0m\u001b[0;34m:\u001b[0m\u001b[0;34m\u001b[0m\u001b[0m\n",
      "\u001b[0;31mHTTPError\u001b[0m: HTTP Error 500: Server Error"
     ]
    }
   ],
   "source": [
    "map(f,[8443,8543])"
   ]
  },
  {
   "cell_type": "code",
   "execution_count": 171,
   "metadata": {
    "collapsed": true
   },
   "outputs": [
    {
     "data": {
      "text/plain": [
       "[{u'championId': 154,\n",
       "  u'createDate': 1479476239604,\n",
       "  u'fellowPlayers': [{u'championId': 43,\n",
       "    u'summonerId': 52228480,\n",
       "    u'teamId': 100},\n",
       "   {u'championId': 201, u'summonerId': 39494918, u'teamId': 200},\n",
       "   {u'championId': 4, u'summonerId': 60308035, u'teamId': 100},\n",
       "   {u'championId': 39, u'summonerId': 19645038, u'teamId': 200},\n",
       "   {u'championId': 81, u'summonerId': 40484091, u'teamId': 200},\n",
       "   {u'championId': 254, u'summonerId': 23056375, u'teamId': 200},\n",
       "   {u'championId': 55, u'summonerId': 44293319, u'teamId': 200},\n",
       "   {u'championId': 114, u'summonerId': 53387769, u'teamId': 100},\n",
       "   {u'championId': 67, u'summonerId': 29478701, u'teamId': 100}],\n",
       "  u'gameId': 2937818935,\n",
       "  u'gameMode': u'CLASSIC',\n",
       "  u'gameType': u'MATCHED_GAME',\n",
       "  u'invalid': False,\n",
       "  u'ipEarned': 108,\n",
       "  u'level': 30,\n",
       "  u'mapId': 11,\n",
       "  u'spell1': 4,\n",
       "  u'spell2': 11,\n",
       "  u'stats': {u'assists': 22,\n",
       "   u'championsKilled': 6,\n",
       "   u'doubleKills': 1,\n",
       "   u'goldEarned': 16817,\n",
       "   u'goldSpent': 13850,\n",
       "   u'item0': 1011,\n",
       "   u'item1': 3143,\n",
       "   u'item2': 3111,\n",
       "   u'item3': 3512,\n",
       "   u'item4': 3065,\n",
       "   u'item5': 1401,\n",
       "   u'item6': 3340,\n",
       "   u'killingSprees': 1,\n",
       "   u'largestKillingSpree': 5,\n",
       "   u'largestMultiKill': 2,\n",
       "   u'level': 18,\n",
       "   u'magicDamageDealtPlayer': 152559,\n",
       "   u'magicDamageDealtToChampions': 27457,\n",
       "   u'magicDamageTaken': 12078,\n",
       "   u'minionsKilled': 90,\n",
       "   u'neutralMinionsKilled': 130,\n",
       "   u'neutralMinionsKilledEnemyJungle': 57,\n",
       "   u'neutralMinionsKilledYourJungle': 73,\n",
       "   u'numDeaths': 5,\n",
       "   u'physicalDamageDealtPlayer': 35318,\n",
       "   u'physicalDamageDealtToChampions': 3083,\n",
       "   u'physicalDamageTaken': 45344,\n",
       "   u'playerPosition': 3,\n",
       "   u'team': 100,\n",
       "   u'timePlayed': 2374,\n",
       "   u'totalDamageDealt': 202920,\n",
       "   u'totalDamageDealtToBuildings': 4857,\n",
       "   u'totalDamageDealtToChampions': 34121,\n",
       "   u'totalDamageTaken': 65374,\n",
       "   u'totalHeal': 47644,\n",
       "   u'totalTimeCrowdControlDealt': 1220,\n",
       "   u'totalUnitsHealed': 1,\n",
       "   u'trueDamageDealtPlayer': 15042,\n",
       "   u'trueDamageDealtToChampions': 3580,\n",
       "   u'trueDamageTaken': 7952,\n",
       "   u'turretsKilled': 1,\n",
       "   u'wardKilled': 4,\n",
       "   u'wardPlaced': 12,\n",
       "   u'win': True},\n",
       "  u'subType': u'RANKED_FLEX_SR',\n",
       "  u'teamId': 100},\n",
       " {u'championId': 126,\n",
       "  u'createDate': 1479473391194,\n",
       "  u'fellowPlayers': [{u'championId': 412,\n",
       "    u'summonerId': 52228480,\n",
       "    u'teamId': 100},\n",
       "   {u'championId': 13, u'summonerId': 39447303, u'teamId': 100},\n",
       "   {u'championId': 89, u'summonerId': 45811773, u'teamId': 200},\n",
       "   {u'championId': 119, u'summonerId': 89268116, u'teamId': 200},\n",
       "   {u'championId': 64, u'summonerId': 34029996, u'teamId': 100},\n",
       "   {u'championId': 51, u'summonerId': 29478701, u'teamId': 100},\n",
       "   {u'championId': 35, u'summonerId': 48667943, u'teamId': 200},\n",
       "   {u'championId': 85, u'summonerId': 21543244, u'teamId': 200},\n",
       "   {u'championId': 99, u'summonerId': 49996922, u'teamId': 200}],\n",
       "  u'gameId': 2937792788,\n",
       "  u'gameMode': u'CLASSIC',\n",
       "  u'gameType': u'MATCHED_GAME',\n",
       "  u'invalid': False,\n",
       "  u'ipEarned': 78,\n",
       "  u'level': 30,\n",
       "  u'mapId': 11,\n",
       "  u'spell1': 4,\n",
       "  u'spell2': 12,\n",
       "  u'stats': {u'assists': 12,\n",
       "   u'barracksKilled': 1,\n",
       "   u'championsKilled': 9,\n",
       "   u'doubleKills': 1,\n",
       "   u'goldEarned': 17392,\n",
       "   u'goldSpent': 17100,\n",
       "   u'item0': 3072,\n",
       "   u'item1': 3071,\n",
       "   u'item2': 3036,\n",
       "   u'item3': 3158,\n",
       "   u'item4': 3156,\n",
       "   u'item5': 3026,\n",
       "   u'item6': 3340,\n",
       "   u'killingSprees': 2,\n",
       "   u'largestKillingSpree': 3,\n",
       "   u'largestMultiKill': 2,\n",
       "   u'level': 18,\n",
       "   u'magicDamageDealtPlayer': 33573,\n",
       "   u'magicDamageDealtToChampions': 13875,\n",
       "   u'magicDamageTaken': 21878,\n",
       "   u'minionsKilled': 244,\n",
       "   u'neutralMinionsKilled': 12,\n",
       "   u'neutralMinionsKilledYourJungle': 12,\n",
       "   u'numDeaths': 16,\n",
       "   u'physicalDamageDealtPlayer': 171938,\n",
       "   u'physicalDamageDealtToChampions': 34585,\n",
       "   u'physicalDamageTaken': 28574,\n",
       "   u'playerPosition': 1,\n",
       "   u'playerRole': 4,\n",
       "   u'team': 100,\n",
       "   u'timePlayed': 2696,\n",
       "   u'totalDamageDealt': 209199,\n",
       "   u'totalDamageDealtToBuildings': 4319,\n",
       "   u'totalDamageDealtToChampions': 50564,\n",
       "   u'totalDamageTaken': 53896,\n",
       "   u'totalHeal': 4586,\n",
       "   u'totalTimeCrowdControlDealt': 491,\n",
       "   u'totalUnitsHealed': 1,\n",
       "   u'trueDamageDealtPlayer': 3687,\n",
       "   u'trueDamageDealtToChampions': 2103,\n",
       "   u'trueDamageTaken': 3443,\n",
       "   u'wardKilled': 2,\n",
       "   u'wardPlaced': 8,\n",
       "   u'win': False},\n",
       "  u'subType': u'RANKED_FLEX_SR',\n",
       "  u'teamId': 100},\n",
       " {u'championId': 64,\n",
       "  u'createDate': 1479470040820,\n",
       "  u'fellowPlayers': [{u'championId': 25,\n",
       "    u'summonerId': 52228480,\n",
       "    u'teamId': 200},\n",
       "   {u'championId': 245, u'summonerId': 46845018, u'teamId': 100},\n",
       "   {u'championId': 222, u'summonerId': 19157309, u'teamId': 100},\n",
       "   {u'championId': 104, u'summonerId': 31732786, u'teamId': 100},\n",
       "   {u'championId': 54, u'summonerId': 43903387, u'teamId': 100},\n",
       "   {u'championId': 412, u'summonerId': 20732481, u'teamId': 100},\n",
       "   {u'championId': 67, u'summonerId': 29478701, u'teamId': 200},\n",
       "   {u'championId': 238, u'summonerId': 19621510, u'teamId': 200},\n",
       "   {u'championId': 69, u'summonerId': 21284324, u'teamId': 200}],\n",
       "  u'gameId': 2937748523,\n",
       "  u'gameMode': u'CLASSIC',\n",
       "  u'gameType': u'MATCHED_GAME',\n",
       "  u'invalid': False,\n",
       "  u'ipEarned': 237,\n",
       "  u'level': 30,\n",
       "  u'mapId': 11,\n",
       "  u'spell1': 4,\n",
       "  u'spell2': 11,\n",
       "  u'stats': {u'assists': 11,\n",
       "   u'barracksKilled': 1,\n",
       "   u'bountyLevel': 2,\n",
       "   u'championsKilled': 8,\n",
       "   u'doubleKills': 1,\n",
       "   u'goldEarned': 13161,\n",
       "   u'goldSpent': 9775,\n",
       "   u'item0': 1011,\n",
       "   u'item1': 1408,\n",
       "   u'item2': 3077,\n",
       "   u'item3': 3047,\n",
       "   u'item4': 3742,\n",
       "   u'item5': 1031,\n",
       "   u'item6': 3340,\n",
       "   u'killingSprees': 2,\n",
       "   u'largestKillingSpree': 2,\n",
       "   u'largestMultiKill': 2,\n",
       "   u'level': 16,\n",
       "   u'magicDamageDealtPlayer': 24033,\n",
       "   u'magicDamageDealtToChampions': 2821,\n",
       "   u'magicDamageTaken': 10535,\n",
       "   u'minionsKilled': 24,\n",
       "   u'neutralMinionsKilled': 127,\n",
       "   u'neutralMinionsKilledEnemyJungle': 57,\n",
       "   u'neutralMinionsKilledYourJungle': 70,\n",
       "   u'numDeaths': 6,\n",
       "   u'physicalDamageDealtPlayer': 134437,\n",
       "   u'physicalDamageDealtToChampions': 15758,\n",
       "   u'physicalDamageTaken': 21493,\n",
       "   u'playerPosition': 3,\n",
       "   u'team': 200,\n",
       "   u'timePlayed': 1847,\n",
       "   u'totalDamageDealt': 166565,\n",
       "   u'totalDamageDealtToBuildings': 7259,\n",
       "   u'totalDamageDealtToChampions': 19353,\n",
       "   u'totalDamageTaken': 33059,\n",
       "   u'totalHeal': 6770,\n",
       "   u'totalTimeCrowdControlDealt': 899,\n",
       "   u'totalUnitsHealed': 1,\n",
       "   u'trueDamageDealtPlayer': 8094,\n",
       "   u'trueDamageDealtToChampions': 774,\n",
       "   u'trueDamageTaken': 1030,\n",
       "   u'turretsKilled': 1,\n",
       "   u'wardKilled': 1,\n",
       "   u'wardPlaced': 21,\n",
       "   u'win': True},\n",
       "  u'subType': u'RANKED_FLEX_SR',\n",
       "  u'teamId': 200},\n",
       " {u'championId': 254,\n",
       "  u'createDate': 1479467719601,\n",
       "  u'fellowPlayers': [{u'championId': 75,\n",
       "    u'summonerId': 271527,\n",
       "    u'teamId': 200},\n",
       "   {u'championId': 412, u'summonerId': 52228480, u'teamId': 100},\n",
       "   {u'championId': 236, u'summonerId': 39957510, u'teamId': 200},\n",
       "   {u'championId': 2, u'summonerId': 23898731, u'teamId': 200},\n",
       "   {u'championId': 64, u'summonerId': 70576816, u'teamId': 200},\n",
       "   {u'championId': 12, u'summonerId': 20315223, u'teamId': 200},\n",
       "   {u'championId': 105, u'summonerId': 22017162, u'teamId': 100},\n",
       "   {u'championId': 29, u'summonerId': 29478701, u'teamId': 100},\n",
       "   {u'championId': 114, u'summonerId': 24771187, u'teamId': 100}],\n",
       "  u'gameId': 2937735693,\n",
       "  u'gameMode': u'CLASSIC',\n",
       "  u'gameType': u'MATCHED_GAME',\n",
       "  u'invalid': False,\n",
       "  u'ipEarned': 57,\n",
       "  u'level': 30,\n",
       "  u'mapId': 11,\n",
       "  u'spell1': 4,\n",
       "  u'spell2': 11,\n",
       "  u'stats': {u'assists': 9,\n",
       "   u'championsKilled': 9,\n",
       "   u'goldEarned': 11955,\n",
       "   u'goldSpent': 11108,\n",
       "   u'item0': 1412,\n",
       "   u'item1': 2031,\n",
       "   u'item2': 3078,\n",
       "   u'item3': 3047,\n",
       "   u'item4': 3053,\n",
       "   u'item5': 1031,\n",
       "   u'item6': 3340,\n",
       "   u'killingSprees': 2,\n",
       "   u'largestKillingSpree': 4,\n",
       "   u'largestMultiKill': 1,\n",
       "   u'level': 15,\n",
       "   u'magicDamageDealtPlayer': 3338,\n",
       "   u'magicDamageDealtToChampions': 40,\n",
       "   u'magicDamageTaken': 8318,\n",
       "   u'minionsKilled': 40,\n",
       "   u'neutralMinionsKilled': 124,\n",
       "   u'neutralMinionsKilledEnemyJungle': 47,\n",
       "   u'neutralMinionsKilledYourJungle': 77,\n",
       "   u'numDeaths': 7,\n",
       "   u'physicalDamageDealtPlayer': 148994,\n",
       "   u'physicalDamageDealtToChampions': 19637,\n",
       "   u'physicalDamageTaken': 21504,\n",
       "   u'playerPosition': 3,\n",
       "   u'team': 100,\n",
       "   u'timePlayed': 1747,\n",
       "   u'totalDamageDealt': 160621,\n",
       "   u'totalDamageDealtToBuildings': 1202,\n",
       "   u'totalDamageDealtToChampions': 20859,\n",
       "   u'totalDamageTaken': 31734,\n",
       "   u'totalHeal': 8102,\n",
       "   u'totalTimeCrowdControlDealt': 695,\n",
       "   u'totalUnitsHealed': 1,\n",
       "   u'trueDamageDealtPlayer': 8288,\n",
       "   u'trueDamageDealtToChampions': 1182,\n",
       "   u'trueDamageTaken': 1910,\n",
       "   u'wardPlaced': 8,\n",
       "   u'win': False},\n",
       "  u'subType': u'RANKED_FLEX_SR',\n",
       "  u'teamId': 100},\n",
       " {u'championId': 64,\n",
       "  u'createDate': 1479426224086,\n",
       "  u'fellowPlayers': [{u'championId': 41,\n",
       "    u'summonerId': 21349120,\n",
       "    u'teamId': 100},\n",
       "   {u'championId': 40, u'summonerId': 20829348, u'teamId': 100},\n",
       "   {u'championId': 56, u'summonerId': 25215583, u'teamId': 100},\n",
       "   {u'championId': 39, u'summonerId': 30239304, u'teamId': 200},\n",
       "   {u'championId': 134, u'summonerId': 34138505, u'teamId': 200},\n",
       "   {u'championId': 43, u'summonerId': 51974905, u'teamId': 200},\n",
       "   {u'championId': 103, u'summonerId': 70828290, u'teamId': 100},\n",
       "   {u'championId': 81, u'summonerId': 29478701, u'teamId': 200},\n",
       "   {u'championId': 202, u'summonerId': 20171419, u'teamId': 100}],\n",
       "  u'gameId': 2937545782,\n",
       "  u'gameMode': u'CLASSIC',\n",
       "  u'gameType': u'MATCHED_GAME',\n",
       "  u'invalid': False,\n",
       "  u'ipEarned': 62,\n",
       "  u'level': 30,\n",
       "  u'mapId': 11,\n",
       "  u'spell1': 4,\n",
       "  u'spell2': 11,\n",
       "  u'stats': {u'assists': 2,\n",
       "   u'championsKilled': 1,\n",
       "   u'goldEarned': 9669,\n",
       "   u'goldSpent': 9275,\n",
       "   u'item0': 2031,\n",
       "   u'item1': 1408,\n",
       "   u'item2': 3143,\n",
       "   u'item3': 3111,\n",
       "   u'item4': 3155,\n",
       "   u'item5': 3211,\n",
       "   u'item6': 3340,\n",
       "   u'largestMultiKill': 1,\n",
       "   u'level': 13,\n",
       "   u'magicDamageDealtPlayer': 18924,\n",
       "   u'magicDamageDealtToChampions': 2353,\n",
       "   u'magicDamageTaken': 8274,\n",
       "   u'minionsKilled': 29,\n",
       "   u'neutralMinionsKilled': 102,\n",
       "   u'neutralMinionsKilledEnemyJungle': 45,\n",
       "   u'neutralMinionsKilledYourJungle': 57,\n",
       "   u'numDeaths': 8,\n",
       "   u'physicalDamageDealtPlayer': 106952,\n",
       "   u'physicalDamageDealtToChampions': 10348,\n",
       "   u'physicalDamageTaken': 22118,\n",
       "   u'playerPosition': 3,\n",
       "   u'team': 200,\n",
       "   u'timePlayed': 2033,\n",
       "   u'totalDamageDealt': 136178,\n",
       "   u'totalDamageDealtToBuildings': 731,\n",
       "   u'totalDamageDealtToChampions': 12971,\n",
       "   u'totalDamageTaken': 33742,\n",
       "   u'totalHeal': 6776,\n",
       "   u'totalTimeCrowdControlDealt': 1092,\n",
       "   u'totalUnitsHealed': 1,\n",
       "   u'trueDamageDealtPlayer': 10302,\n",
       "   u'trueDamageDealtToChampions': 270,\n",
       "   u'trueDamageTaken': 3349,\n",
       "   u'turretsKilled': 1,\n",
       "   u'wardKilled': 2,\n",
       "   u'wardPlaced': 25,\n",
       "   u'win': False},\n",
       "  u'subType': u'RANKED_FLEX_SR',\n",
       "  u'teamId': 200},\n",
       " {u'championId': 64,\n",
       "  u'createDate': 1479423485984,\n",
       "  u'fellowPlayers': [{u'championId': 4,\n",
       "    u'summonerId': 63793898,\n",
       "    u'teamId': 200},\n",
       "   {u'championId': 22, u'summonerId': 44709597, u'teamId': 200},\n",
       "   {u'championId': 78, u'summonerId': 20770171, u'teamId': 200},\n",
       "   {u'championId': 51, u'summonerId': 31137331, u'teamId': 100},\n",
       "   {u'championId': 121, u'summonerId': 37797666, u'teamId': 200},\n",
       "   {u'championId': 68, u'summonerId': 29661081, u'teamId': 100},\n",
       "   {u'championId': 110, u'summonerId': 29478701, u'teamId': 100},\n",
       "   {u'championId': 412, u'summonerId': 90470507, u'teamId': 200},\n",
       "   {u'championId': 161, u'summonerId': 70207409, u'teamId': 100}],\n",
       "  u'gameId': 2937494606,\n",
       "  u'gameMode': u'CLASSIC',\n",
       "  u'gameType': u'MATCHED_GAME',\n",
       "  u'invalid': False,\n",
       "  u'ipEarned': 129,\n",
       "  u'level': 30,\n",
       "  u'mapId': 11,\n",
       "  u'spell1': 4,\n",
       "  u'spell2': 11,\n",
       "  u'stats': {u'assists': 8,\n",
       "   u'championsKilled': 6,\n",
       "   u'doubleKills': 1,\n",
       "   u'goldEarned': 17082,\n",
       "   u'goldSpent': 16875,\n",
       "   u'item0': 3102,\n",
       "   u'item1': 1408,\n",
       "   u'item2': 3748,\n",
       "   u'item3': 3111,\n",
       "   u'item4': 3156,\n",
       "   u'item5': 3742,\n",
       "   u'item6': 3340,\n",
       "   u'killingSprees': 2,\n",
       "   u'largestKillingSpree': 2,\n",
       "   u'largestMultiKill': 2,\n",
       "   u'level': 18,\n",
       "   u'magicDamageDealtPlayer': 43039,\n",
       "   u'magicDamageDealtToChampions': 3715,\n",
       "   u'magicDamageTaken': 18777,\n",
       "   u'minionsKilled': 80,\n",
       "   u'neutralMinionsKilled': 117,\n",
       "   u'neutralMinionsKilledEnemyJungle': 42,\n",
       "   u'neutralMinionsKilledYourJungle': 75,\n",
       "   u'numDeaths': 18,\n",
       "   u'physicalDamageDealtPlayer': 152485,\n",
       "   u'physicalDamageDealtToChampions': 14759,\n",
       "   u'physicalDamageTaken': 38109,\n",
       "   u'playerPosition': 3,\n",
       "   u'team': 100,\n",
       "   u'timePlayed': 2938,\n",
       "   u'totalDamageDealt': 200730,\n",
       "   u'totalDamageDealtToBuildings': 1991,\n",
       "   u'totalDamageDealtToChampions': 18663,\n",
       "   u'totalDamageTaken': 59268,\n",
       "   u'totalHeal': 7504,\n",
       "   u'totalTimeCrowdControlDealt': 716,\n",
       "   u'totalUnitsHealed': 1,\n",
       "   u'trueDamageDealtPlayer': 5205,\n",
       "   u'trueDamageDealtToChampions': 189,\n",
       "   u'trueDamageTaken': 2381,\n",
       "   u'wardKilled': 2,\n",
       "   u'wardPlaced': 37,\n",
       "   u'win': True},\n",
       "  u'subType': u'RANKED_FLEX_SR',\n",
       "  u'teamId': 100},\n",
       " {u'championId': 64,\n",
       "  u'createDate': 1479419961951,\n",
       "  u'fellowPlayers': [{u'championId': 103,\n",
       "    u'summonerId': 32010465,\n",
       "    u'teamId': 200},\n",
       "   {u'championId': 57, u'summonerId': 62749663, u'teamId': 200},\n",
       "   {u'championId': 236, u'summonerId': 22350545, u'teamId': 200},\n",
       "   {u'championId': 238, u'summonerId': 39006887, u'teamId': 100},\n",
       "   {u'championId': 202, u'summonerId': 79499672, u'teamId': 100},\n",
       "   {u'championId': 201, u'summonerId': 37814809, u'teamId': 200},\n",
       "   {u'championId': 56, u'summonerId': 35800165, u'teamId': 200},\n",
       "   {u'championId': 39, u'summonerId': 85177066, u'teamId': 100},\n",
       "   {u'championId': 98, u'summonerId': 52462247, u'teamId': 100}],\n",
       "  u'gameId': 2937424905,\n",
       "  u'gameMode': u'CLASSIC',\n",
       "  u'gameType': u'MATCHED_GAME',\n",
       "  u'invalid': False,\n",
       "  u'ipEarned': 99,\n",
       "  u'level': 30,\n",
       "  u'mapId': 11,\n",
       "  u'spell1': 4,\n",
       "  u'spell2': 11,\n",
       "  u'stats': {u'assists': 18,\n",
       "   u'championsKilled': 11,\n",
       "   u'goldEarned': 16109,\n",
       "   u'goldSpent': 13975,\n",
       "   u'item0': 3143,\n",
       "   u'item1': 1408,\n",
       "   u'item2': 3077,\n",
       "   u'item3': 3117,\n",
       "   u'item4': 3742,\n",
       "   u'item5': 3065,\n",
       "   u'item6': 3340,\n",
       "   u'killingSprees': 4,\n",
       "   u'largestKillingSpree': 5,\n",
       "   u'largestMultiKill': 1,\n",
       "   u'level': 18,\n",
       "   u'magicDamageDealtPlayer': 41136,\n",
       "   u'magicDamageDealtToChampions': 8162,\n",
       "   u'magicDamageTaken': 16332,\n",
       "   u'minionsKilled': 50,\n",
       "   u'neutralMinionsKilled': 133,\n",
       "   u'neutralMinionsKilledEnemyJungle': 67,\n",
       "   u'neutralMinionsKilledYourJungle': 66,\n",
       "   u'numDeaths': 5,\n",
       "   u'physicalDamageDealtPlayer': 169053,\n",
       "   u'physicalDamageDealtToChampions': 21394,\n",
       "   u'physicalDamageTaken': 25567,\n",
       "   u'playerPosition': 3,\n",
       "   u'team': 100,\n",
       "   u'timePlayed': 2141,\n",
       "   u'totalDamageDealt': 228018,\n",
       "   u'totalDamageDealtToBuildings': 10222,\n",
       "   u'totalDamageDealtToChampions': 30185,\n",
       "   u'totalDamageTaken': 44198,\n",
       "   u'totalHeal': 8714,\n",
       "   u'totalTimeCrowdControlDealt': 1148,\n",
       "   u'totalUnitsHealed': 1,\n",
       "   u'trueDamageDealtPlayer': 17827,\n",
       "   u'trueDamageDealtToChampions': 629,\n",
       "   u'trueDamageTaken': 2299,\n",
       "   u'turretsKilled': 2,\n",
       "   u'wardKilled': 3,\n",
       "   u'wardPlaced': 21,\n",
       "   u'win': True},\n",
       "  u'subType': u'RANKED_FLEX_SR',\n",
       "  u'teamId': 100},\n",
       " {u'championId': 64,\n",
       "  u'createDate': 1479397601870,\n",
       "  u'fellowPlayers': [{u'championId': 14,\n",
       "    u'summonerId': 34228327,\n",
       "    u'teamId': 200},\n",
       "   {u'championId': 202, u'summonerId': 86851051, u'teamId': 100},\n",
       "   {u'championId': 154, u'summonerId': 31349334, u'teamId': 200},\n",
       "   {u'championId': 222, u'summonerId': 36651160, u'teamId': 200},\n",
       "   {u'championId': 27, u'summonerId': 23438941, u'teamId': 100},\n",
       "   {u'championId': 103, u'summonerId': 29478701, u'teamId': 100},\n",
       "   {u'championId': 43, u'summonerId': 46568291, u'teamId': 200},\n",
       "   {u'championId': 16, u'summonerId': 40637119, u'teamId': 100},\n",
       "   {u'championId': 267, u'summonerId': 31747192, u'teamId': 200}],\n",
       "  u'gameId': 2936900088,\n",
       "  u'gameMode': u'CLASSIC',\n",
       "  u'gameType': u'MATCHED_GAME',\n",
       "  u'invalid': False,\n",
       "  u'ipEarned': 54,\n",
       "  u'level': 30,\n",
       "  u'mapId': 11,\n",
       "  u'spell1': 4,\n",
       "  u'spell2': 11,\n",
       "  u'stats': {u'assists': 3,\n",
       "   u'championsKilled': 6,\n",
       "   u'doubleKills': 1,\n",
       "   u'goldEarned': 9304,\n",
       "   u'goldSpent': 8925,\n",
       "   u'item0': 2031,\n",
       "   u'item1': 1408,\n",
       "   u'item2': 3111,\n",
       "   u'item3': 3156,\n",
       "   u'item4': 1031,\n",
       "   u'item5': 1011,\n",
       "   u'item6': 3340,\n",
       "   u'killingSprees': 2,\n",
       "   u'largestKillingSpree': 4,\n",
       "   u'largestMultiKill': 2,\n",
       "   u'level': 13,\n",
       "   u'magicDamageDealtPlayer': 16277,\n",
       "   u'magicDamageDealtToChampions': 2747,\n",
       "   u'magicDamageTaken': 8569,\n",
       "   u'minionsKilled': 15,\n",
       "   u'neutralMinionsKilled': 82,\n",
       "   u'neutralMinionsKilledEnemyJungle': 29,\n",
       "   u'neutralMinionsKilledYourJungle': 53,\n",
       "   u'numDeaths': 5,\n",
       "   u'physicalDamageDealtPlayer': 85923,\n",
       "   u'physicalDamageDealtToChampions': 13192,\n",
       "   u'physicalDamageTaken': 22191,\n",
       "   u'playerPosition': 3,\n",
       "   u'team': 100,\n",
       "   u'timePlayed': 1637,\n",
       "   u'totalDamageDealt': 115271,\n",
       "   u'totalDamageDealtToBuildings': 1595,\n",
       "   u'totalDamageDealtToChampions': 17074,\n",
       "   u'totalDamageTaken': 31454,\n",
       "   u'totalHeal': 7784,\n",
       "   u'totalTimeCrowdControlDealt': 732,\n",
       "   u'totalUnitsHealed': 1,\n",
       "   u'trueDamageDealtPlayer': 13070,\n",
       "   u'trueDamageDealtToChampions': 1133,\n",
       "   u'trueDamageTaken': 694,\n",
       "   u'turretsKilled': 1,\n",
       "   u'wardKilled': 1,\n",
       "   u'wardPlaced': 16,\n",
       "   u'win': False},\n",
       "  u'subType': u'RANKED_FLEX_SR',\n",
       "  u'teamId': 100},\n",
       " {u'championId': 64,\n",
       "  u'createDate': 1479395154734,\n",
       "  u'fellowPlayers': [{u'championId': 67,\n",
       "    u'summonerId': 44747449,\n",
       "    u'teamId': 100},\n",
       "   {u'championId': 7, u'summonerId': 51859859, u'teamId': 100},\n",
       "   {u'championId': 83, u'summonerId': 34505059, u'teamId': 200},\n",
       "   {u'championId': 202, u'summonerId': 48738117, u'teamId': 200},\n",
       "   {u'championId': 103, u'summonerId': 44089430, u'teamId': 200},\n",
       "   {u'championId': 201, u'summonerId': 38187221, u'teamId': 200},\n",
       "   {u'championId': 143, u'summonerId': 20853875, u'teamId': 100},\n",
       "   {u'championId': 2, u'summonerId': 50983987, u'teamId': 200},\n",
       "   {u'championId': 61, u'summonerId': 29478701, u'teamId': 100}],\n",
       "  u'gameId': 2936882791,\n",
       "  u'gameMode': u'CLASSIC',\n",
       "  u'gameType': u'MATCHED_GAME',\n",
       "  u'invalid': False,\n",
       "  u'ipEarned': 52,\n",
       "  u'level': 30,\n",
       "  u'mapId': 11,\n",
       "  u'spell1': 4,\n",
       "  u'spell2': 11,\n",
       "  u'stats': {u'assists': 7,\n",
       "   u'championsKilled': 7,\n",
       "   u'goldEarned': 9806,\n",
       "   u'goldSpent': 9175,\n",
       "   u'item0': 2031,\n",
       "   u'item1': 1408,\n",
       "   u'item2': 3077,\n",
       "   u'item3': 3047,\n",
       "   u'item4': 3742,\n",
       "   u'item5': 3211,\n",
       "   u'item6': 3340,\n",
       "   u'killingSprees': 2,\n",
       "   u'largestKillingSpree': 2,\n",
       "   u'largestMultiKill': 1,\n",
       "   u'level': 13,\n",
       "   u'magicDamageDealtPlayer': 15187,\n",
       "   u'magicDamageDealtToChampions': 2024,\n",
       "   u'magicDamageTaken': 6907,\n",
       "   u'minionsKilled': 27,\n",
       "   u'neutralMinionsKilled': 53,\n",
       "   u'neutralMinionsKilledEnemyJungle': 13,\n",
       "   u'neutralMinionsKilledYourJungle': 40,\n",
       "   u'numDeaths': 10,\n",
       "   u'physicalDamageDealtPlayer': 75398,\n",
       "   u'physicalDamageDealtToChampions': 9972,\n",
       "   u'physicalDamageTaken': 19109,\n",
       "   u'playerPosition': 3,\n",
       "   u'team': 100,\n",
       "   u'timePlayed': 1605,\n",
       "   u'totalDamageDealt': 97029,\n",
       "   u'totalDamageDealtToBuildings': 685,\n",
       "   u'totalDamageDealtToChampions': 12241,\n",
       "   u'totalDamageTaken': 28851,\n",
       "   u'totalHeal': 3677,\n",
       "   u'totalTimeCrowdControlDealt': 675,\n",
       "   u'totalUnitsHealed': 1,\n",
       "   u'trueDamageDealtPlayer': 6444,\n",
       "   u'trueDamageDealtToChampions': 244,\n",
       "   u'trueDamageTaken': 2834,\n",
       "   u'wardPlaced': 25,\n",
       "   u'win': False},\n",
       "  u'subType': u'RANKED_FLEX_SR',\n",
       "  u'teamId': 100},\n",
       " {u'championId': 120,\n",
       "  u'createDate': 1479392012056,\n",
       "  u'fellowPlayers': [{u'championId': 254,\n",
       "    u'summonerId': 37881311,\n",
       "    u'teamId': 200},\n",
       "   {u'championId': 126, u'summonerId': 33406823, u'teamId': 100},\n",
       "   {u'championId': 25, u'summonerId': 47437085, u'teamId': 200},\n",
       "   {u'championId': 268, u'summonerId': 34967731, u'teamId': 200},\n",
       "   {u'championId': 15, u'summonerId': 44549380, u'teamId': 200},\n",
       "   {u'championId': 115, u'summonerId': 26368566, u'teamId': 100},\n",
       "   {u'championId': 51, u'summonerId': 29478701, u'teamId': 100},\n",
       "   {u'championId': 432, u'summonerId': 43037628, u'teamId': 100},\n",
       "   {u'championId': 58, u'summonerId': 71181413, u'teamId': 200}],\n",
       "  u'gameId': 2936823043,\n",
       "  u'gameMode': u'CLASSIC',\n",
       "  u'gameType': u'MATCHED_GAME',\n",
       "  u'invalid': False,\n",
       "  u'ipEarned': 64,\n",
       "  u'level': 30,\n",
       "  u'mapId': 11,\n",
       "  u'spell1': 6,\n",
       "  u'spell2': 11,\n",
       "  u'stats': {u'assists': 9,\n",
       "   u'championsKilled': 2,\n",
       "   u'goldEarned': 11591,\n",
       "   u'goldSpent': 10783,\n",
       "   u'item0': 3715,\n",
       "   u'item1': 3082,\n",
       "   u'item2': 3047,\n",
       "   u'item3': 3078,\n",
       "   u'item4': 3065,\n",
       "   u'item5': 1011,\n",
       "   u'item6': 3340,\n",
       "   u'largestMultiKill': 1,\n",
       "   u'level': 16,\n",
       "   u'magicDamageDealtPlayer': 12329,\n",
       "   u'magicDamageDealtToChampions': 2272,\n",
       "   u'magicDamageTaken': 14306,\n",
       "   u'minionsKilled': 25,\n",
       "   u'neutralMinionsKilled': 118,\n",
       "   u'neutralMinionsKilledEnemyJungle': 50,\n",
       "   u'neutralMinionsKilledYourJungle': 68,\n",
       "   u'numDeaths': 8,\n",
       "   u'physicalDamageDealtPlayer': 120649,\n",
       "   u'physicalDamageDealtToChampions': 11868,\n",
       "   u'physicalDamageTaken': 29963,\n",
       "   u'playerPosition': 3,\n",
       "   u'team': 100,\n",
       "   u'timePlayed': 2061,\n",
       "   u'totalDamageDealt': 143804,\n",
       "   u'totalDamageDealtToChampions': 16219,\n",
       "   u'totalDamageTaken': 45868,\n",
       "   u'totalHeal': 13740,\n",
       "   u'totalTimeCrowdControlDealt': 501,\n",
       "   u'totalUnitsHealed': 1,\n",
       "   u'trueDamageDealtPlayer': 10826,\n",
       "   u'trueDamageDealtToChampions': 2078,\n",
       "   u'trueDamageTaken': 1598,\n",
       "   u'wardKilled': 1,\n",
       "   u'wardPlaced': 10,\n",
       "   u'win': False},\n",
       "  u'subType': u'RANKED_FLEX_SR',\n",
       "  u'teamId': 100}]"
      ]
     },
     "execution_count": 171,
     "metadata": {},
     "output_type": "execute_result"
    }
   ],
   "source": [
    "rdata[\"games\"]"
   ]
  },
  {
   "cell_type": "code",
   "execution_count": null,
   "metadata": {
    "collapsed": true
   },
   "outputs": [],
   "source": [
    "win_rate = [0]*(max(championid)+1)\n",
    "win = [0]*(max(championid)+1)\n",
    "total = [0]*(max(championid)+1)\n",
    "for i in range(len(match)):\n",
    "    for j in range(len(match[i][\"teams\"])):\n",
    "        for k in range(len(match[i][\"teams\"][j][\"bans\"])):\n",
    "            champid = match[i][\"teams\"][j][\"bans\"][0][\"championId\"] \n",
    "            if match[i][\"teams\"][j][\"winner\"]:\n",
    "                win[champid] += 1\n",
    "            total[champid] += 1\n",
    "for i in range(max(championid)+1):\n",
    "    if total[i] == 0:\n",
    "        win_rate[i] = 0\n",
    "    else:\n",
    "        win_rate[i] = win[i]/total[i]\n",
    "print win_rate"
   ]
  },
  {
   "cell_type": "code",
   "execution_count": 302,
   "metadata": {
    "collapsed": false
   },
   "outputs": [
    {
     "data": {
      "text/plain": [
       "{u'champion': 120,\n",
       " u'lane': u'JUNGLE',\n",
       " u'matchId': 2936114762,\n",
       " u'platformId': u'EUW1',\n",
       " u'queue': u'RANKED_FLEX_SR',\n",
       " u'region': u'EUW',\n",
       " u'role': u'NONE',\n",
       " u'season': u'PRESEASON2017',\n",
       " u'timestamp': 1479334033814}"
      ]
     },
     "execution_count": 302,
     "metadata": {},
     "output_type": "execute_result"
    }
   ],
   "source": [
    "matchlist[\"matches\"][1]"
   ]
  },
  {
   "cell_type": "code",
   "execution_count": 310,
   "metadata": {
    "collapsed": true
   },
   "outputs": [
    {
     "name": "stdout",
     "output_type": "stream",
     "text": [
      "464\n",
      "--- 1.5532181263 seconds ---\n",
      "--- 1.57335495949 seconds ---\n"
     ]
    },
    {
     "ename": "HTTPError",
     "evalue": "HTTP Error 429: Too Many Requests",
     "output_type": "error",
     "traceback": [
      "\u001b[0;31m---------------------------------------------------------------------------\u001b[0m",
      "\u001b[0;31mHTTPError\u001b[0m                                 Traceback (most recent call last)",
      "\u001b[0;32m<ipython-input-310-dfab792fb61b>\u001b[0m in \u001b[0;36m<module>\u001b[0;34m()\u001b[0m\n\u001b[1;32m      7\u001b[0m     \u001b[0mstart_time\u001b[0m \u001b[0;34m=\u001b[0m \u001b[0mtime\u001b[0m\u001b[0;34m.\u001b[0m\u001b[0mtime\u001b[0m\u001b[0;34m(\u001b[0m\u001b[0;34m)\u001b[0m\u001b[0;34m\u001b[0m\u001b[0m\n\u001b[1;32m      8\u001b[0m     \u001b[0mtime\u001b[0m\u001b[0;34m.\u001b[0m\u001b[0msleep\u001b[0m\u001b[0;34m(\u001b[0m\u001b[0;36m0.5\u001b[0m\u001b[0;34m)\u001b[0m\u001b[0;34m\u001b[0m\u001b[0m\n\u001b[0;32m----> 9\u001b[0;31m     \u001b[0mmatch\u001b[0m\u001b[0;34m.\u001b[0m\u001b[0mappend\u001b[0m\u001b[0;34m(\u001b[0m\u001b[0mgetMatch\u001b[0m\u001b[0;34m(\u001b[0m\u001b[0mmatchid\u001b[0m\u001b[0;34m[\u001b[0m\u001b[0mj\u001b[0m\u001b[0;34m]\u001b[0m\u001b[0;34m)\u001b[0m\u001b[0;34m)\u001b[0m\u001b[0;34m\u001b[0m\u001b[0m\n\u001b[0m\u001b[1;32m     10\u001b[0m     \u001b[0mtime\u001b[0m\u001b[0;34m.\u001b[0m\u001b[0msleep\u001b[0m\u001b[0;34m(\u001b[0m\u001b[0;36m0.5\u001b[0m\u001b[0;34m)\u001b[0m\u001b[0;34m\u001b[0m\u001b[0m\n\u001b[1;32m     11\u001b[0m     \u001b[0;32mprint\u001b[0m\u001b[0;34m(\u001b[0m\u001b[0;34m\"--- %s seconds ---\"\u001b[0m \u001b[0;34m%\u001b[0m \u001b[0;34m(\u001b[0m\u001b[0mtime\u001b[0m\u001b[0;34m.\u001b[0m\u001b[0mtime\u001b[0m\u001b[0;34m(\u001b[0m\u001b[0;34m)\u001b[0m \u001b[0;34m-\u001b[0m \u001b[0mstart_time\u001b[0m\u001b[0;34m)\u001b[0m\u001b[0;34m)\u001b[0m\u001b[0;34m\u001b[0m\u001b[0m\n",
      "\u001b[0;32m<ipython-input-288-948ffd5c84ce>\u001b[0m in \u001b[0;36mgetMatch\u001b[0;34m(MatchID)\u001b[0m\n\u001b[1;32m     42\u001b[0m \u001b[0;32mdef\u001b[0m \u001b[0mgetMatch\u001b[0m\u001b[0;34m(\u001b[0m\u001b[0mMatchID\u001b[0m\u001b[0;34m)\u001b[0m\u001b[0;34m:\u001b[0m\u001b[0;34m\u001b[0m\u001b[0m\n\u001b[1;32m     43\u001b[0m         \u001b[0mrURL\u001b[0m\u001b[0;34m=\u001b[0m \u001b[0;34m\"https://\"\u001b[0m \u001b[0;34m+\u001b[0m\u001b[0mRegion\u001b[0m\u001b[0;34m.\u001b[0m\u001b[0mlower\u001b[0m\u001b[0;34m(\u001b[0m\u001b[0;34m)\u001b[0m\u001b[0;34m+\u001b[0m \u001b[0;34m\".api.pvp.net/api/lol/\"\u001b[0m \u001b[0;34m+\u001b[0m \u001b[0mRegion\u001b[0m\u001b[0;34m.\u001b[0m\u001b[0mlower\u001b[0m\u001b[0;34m(\u001b[0m\u001b[0;34m)\u001b[0m\u001b[0;34m+\u001b[0m \u001b[0;34m\"/v2.2/match/\"\u001b[0m \u001b[0;34m+\u001b[0m \u001b[0;34m`\u001b[0m\u001b[0mMatchID\u001b[0m\u001b[0;34m`\u001b[0m\u001b[0;34m+\u001b[0m \u001b[0;34m\"/?api_key=\"\u001b[0m \u001b[0;34m+\u001b[0m \u001b[0mKey\u001b[0m\u001b[0;34m\u001b[0m\u001b[0m\n\u001b[0;32m---> 44\u001b[0;31m         \u001b[0mr_data\u001b[0m\u001b[0;34m=\u001b[0m\u001b[0mgetJSONReply\u001b[0m\u001b[0;34m(\u001b[0m\u001b[0mrURL\u001b[0m\u001b[0;34m)\u001b[0m\u001b[0;34m;\u001b[0m\u001b[0;34m\u001b[0m\u001b[0m\n\u001b[0m\u001b[1;32m     45\u001b[0m         \u001b[0;32mwith\u001b[0m \u001b[0mio\u001b[0m\u001b[0;34m.\u001b[0m\u001b[0mopen\u001b[0m\u001b[0;34m(\u001b[0m\u001b[0;34m'Match/%s.json'\u001b[0m \u001b[0;34m%\u001b[0m \u001b[0mstr\u001b[0m\u001b[0;34m(\u001b[0m\u001b[0mMatchID\u001b[0m\u001b[0;34m)\u001b[0m\u001b[0;34m,\u001b[0m \u001b[0;34m'w'\u001b[0m\u001b[0;34m,\u001b[0m \u001b[0mencoding\u001b[0m\u001b[0;34m=\u001b[0m\u001b[0;34m'utf-8'\u001b[0m\u001b[0;34m)\u001b[0m \u001b[0;32mas\u001b[0m \u001b[0mf\u001b[0m\u001b[0;34m:\u001b[0m\u001b[0;34m\u001b[0m\u001b[0m\n\u001b[1;32m     46\u001b[0m              \u001b[0mf\u001b[0m\u001b[0;34m.\u001b[0m\u001b[0mwrite\u001b[0m\u001b[0;34m(\u001b[0m\u001b[0municode\u001b[0m\u001b[0;34m(\u001b[0m\u001b[0mjson\u001b[0m\u001b[0;34m.\u001b[0m\u001b[0mdumps\u001b[0m\u001b[0;34m(\u001b[0m\u001b[0mr_data\u001b[0m\u001b[0;34m,\u001b[0m \u001b[0mensure_ascii\u001b[0m\u001b[0;34m=\u001b[0m\u001b[0mFalse\u001b[0m\u001b[0;34m)\u001b[0m\u001b[0;34m)\u001b[0m\u001b[0;34m)\u001b[0m\u001b[0;34m\u001b[0m\u001b[0m\n",
      "\u001b[0;32m<ipython-input-288-948ffd5c84ce>\u001b[0m in \u001b[0;36mgetJSONReply\u001b[0;34m(URL)\u001b[0m\n\u001b[1;32m      1\u001b[0m \u001b[0;32mdef\u001b[0m \u001b[0mgetJSONReply\u001b[0m\u001b[0;34m(\u001b[0m\u001b[0mURL\u001b[0m\u001b[0;34m)\u001b[0m\u001b[0;34m:\u001b[0m\u001b[0;34m\u001b[0m\u001b[0m\n\u001b[0;32m----> 2\u001b[0;31m     \u001b[0mresponse\u001b[0m \u001b[0;34m=\u001b[0m \u001b[0murllib2\u001b[0m\u001b[0;34m.\u001b[0m\u001b[0murlopen\u001b[0m\u001b[0;34m(\u001b[0m\u001b[0mURL\u001b[0m\u001b[0;34m)\u001b[0m\u001b[0;34m;\u001b[0m\u001b[0;34m\u001b[0m\u001b[0m\n\u001b[0m\u001b[1;32m      3\u001b[0m     \u001b[0mhtml\u001b[0m \u001b[0;34m=\u001b[0m \u001b[0mresponse\u001b[0m\u001b[0;34m.\u001b[0m\u001b[0mread\u001b[0m\u001b[0;34m(\u001b[0m\u001b[0;34m)\u001b[0m\u001b[0;34m;\u001b[0m\u001b[0;34m\u001b[0m\u001b[0m\n\u001b[1;32m      4\u001b[0m     \u001b[0mdata\u001b[0m \u001b[0;34m=\u001b[0m \u001b[0mjson\u001b[0m\u001b[0;34m.\u001b[0m\u001b[0mloads\u001b[0m\u001b[0;34m(\u001b[0m\u001b[0mhtml\u001b[0m\u001b[0;34m)\u001b[0m\u001b[0;34m;\u001b[0m\u001b[0;34m\u001b[0m\u001b[0m\n\u001b[1;32m      5\u001b[0m     \u001b[0;32mreturn\u001b[0m \u001b[0mdata\u001b[0m\u001b[0;34m;\u001b[0m\u001b[0;34m\u001b[0m\u001b[0m\n",
      "\u001b[0;32m/Users/zhuonijie/anaconda2/lib/python2.7/urllib2.pyc\u001b[0m in \u001b[0;36murlopen\u001b[0;34m(url, data, timeout, cafile, capath, cadefault, context)\u001b[0m\n\u001b[1;32m    152\u001b[0m     \u001b[0;32melse\u001b[0m\u001b[0;34m:\u001b[0m\u001b[0;34m\u001b[0m\u001b[0m\n\u001b[1;32m    153\u001b[0m         \u001b[0mopener\u001b[0m \u001b[0;34m=\u001b[0m \u001b[0m_opener\u001b[0m\u001b[0;34m\u001b[0m\u001b[0m\n\u001b[0;32m--> 154\u001b[0;31m     \u001b[0;32mreturn\u001b[0m \u001b[0mopener\u001b[0m\u001b[0;34m.\u001b[0m\u001b[0mopen\u001b[0m\u001b[0;34m(\u001b[0m\u001b[0murl\u001b[0m\u001b[0;34m,\u001b[0m \u001b[0mdata\u001b[0m\u001b[0;34m,\u001b[0m \u001b[0mtimeout\u001b[0m\u001b[0;34m)\u001b[0m\u001b[0;34m\u001b[0m\u001b[0m\n\u001b[0m\u001b[1;32m    155\u001b[0m \u001b[0;34m\u001b[0m\u001b[0m\n\u001b[1;32m    156\u001b[0m \u001b[0;32mdef\u001b[0m \u001b[0minstall_opener\u001b[0m\u001b[0;34m(\u001b[0m\u001b[0mopener\u001b[0m\u001b[0;34m)\u001b[0m\u001b[0;34m:\u001b[0m\u001b[0;34m\u001b[0m\u001b[0m\n",
      "\u001b[0;32m/Users/zhuonijie/anaconda2/lib/python2.7/urllib2.pyc\u001b[0m in \u001b[0;36mopen\u001b[0;34m(self, fullurl, data, timeout)\u001b[0m\n\u001b[1;32m    433\u001b[0m         \u001b[0;32mfor\u001b[0m \u001b[0mprocessor\u001b[0m \u001b[0;32min\u001b[0m \u001b[0mself\u001b[0m\u001b[0;34m.\u001b[0m\u001b[0mprocess_response\u001b[0m\u001b[0;34m.\u001b[0m\u001b[0mget\u001b[0m\u001b[0;34m(\u001b[0m\u001b[0mprotocol\u001b[0m\u001b[0;34m,\u001b[0m \u001b[0;34m[\u001b[0m\u001b[0;34m]\u001b[0m\u001b[0;34m)\u001b[0m\u001b[0;34m:\u001b[0m\u001b[0;34m\u001b[0m\u001b[0m\n\u001b[1;32m    434\u001b[0m             \u001b[0mmeth\u001b[0m \u001b[0;34m=\u001b[0m \u001b[0mgetattr\u001b[0m\u001b[0;34m(\u001b[0m\u001b[0mprocessor\u001b[0m\u001b[0;34m,\u001b[0m \u001b[0mmeth_name\u001b[0m\u001b[0;34m)\u001b[0m\u001b[0;34m\u001b[0m\u001b[0m\n\u001b[0;32m--> 435\u001b[0;31m             \u001b[0mresponse\u001b[0m \u001b[0;34m=\u001b[0m \u001b[0mmeth\u001b[0m\u001b[0;34m(\u001b[0m\u001b[0mreq\u001b[0m\u001b[0;34m,\u001b[0m \u001b[0mresponse\u001b[0m\u001b[0;34m)\u001b[0m\u001b[0;34m\u001b[0m\u001b[0m\n\u001b[0m\u001b[1;32m    436\u001b[0m \u001b[0;34m\u001b[0m\u001b[0m\n\u001b[1;32m    437\u001b[0m         \u001b[0;32mreturn\u001b[0m \u001b[0mresponse\u001b[0m\u001b[0;34m\u001b[0m\u001b[0m\n",
      "\u001b[0;32m/Users/zhuonijie/anaconda2/lib/python2.7/urllib2.pyc\u001b[0m in \u001b[0;36mhttp_response\u001b[0;34m(self, request, response)\u001b[0m\n\u001b[1;32m    546\u001b[0m         \u001b[0;32mif\u001b[0m \u001b[0;32mnot\u001b[0m \u001b[0;34m(\u001b[0m\u001b[0;36m200\u001b[0m \u001b[0;34m<=\u001b[0m \u001b[0mcode\u001b[0m \u001b[0;34m<\u001b[0m \u001b[0;36m300\u001b[0m\u001b[0;34m)\u001b[0m\u001b[0;34m:\u001b[0m\u001b[0;34m\u001b[0m\u001b[0m\n\u001b[1;32m    547\u001b[0m             response = self.parent.error(\n\u001b[0;32m--> 548\u001b[0;31m                 'http', request, response, code, msg, hdrs)\n\u001b[0m\u001b[1;32m    549\u001b[0m \u001b[0;34m\u001b[0m\u001b[0m\n\u001b[1;32m    550\u001b[0m         \u001b[0;32mreturn\u001b[0m \u001b[0mresponse\u001b[0m\u001b[0;34m\u001b[0m\u001b[0m\n",
      "\u001b[0;32m/Users/zhuonijie/anaconda2/lib/python2.7/urllib2.pyc\u001b[0m in \u001b[0;36merror\u001b[0;34m(self, proto, *args)\u001b[0m\n\u001b[1;32m    471\u001b[0m         \u001b[0;32mif\u001b[0m \u001b[0mhttp_err\u001b[0m\u001b[0;34m:\u001b[0m\u001b[0;34m\u001b[0m\u001b[0m\n\u001b[1;32m    472\u001b[0m             \u001b[0margs\u001b[0m \u001b[0;34m=\u001b[0m \u001b[0;34m(\u001b[0m\u001b[0mdict\u001b[0m\u001b[0;34m,\u001b[0m \u001b[0;34m'default'\u001b[0m\u001b[0;34m,\u001b[0m \u001b[0;34m'http_error_default'\u001b[0m\u001b[0;34m)\u001b[0m \u001b[0;34m+\u001b[0m \u001b[0morig_args\u001b[0m\u001b[0;34m\u001b[0m\u001b[0m\n\u001b[0;32m--> 473\u001b[0;31m             \u001b[0;32mreturn\u001b[0m \u001b[0mself\u001b[0m\u001b[0;34m.\u001b[0m\u001b[0m_call_chain\u001b[0m\u001b[0;34m(\u001b[0m\u001b[0;34m*\u001b[0m\u001b[0margs\u001b[0m\u001b[0;34m)\u001b[0m\u001b[0;34m\u001b[0m\u001b[0m\n\u001b[0m\u001b[1;32m    474\u001b[0m \u001b[0;34m\u001b[0m\u001b[0m\n\u001b[1;32m    475\u001b[0m \u001b[0;31m# XXX probably also want an abstract factory that knows when it makes\u001b[0m\u001b[0;34m\u001b[0m\u001b[0;34m\u001b[0m\u001b[0m\n",
      "\u001b[0;32m/Users/zhuonijie/anaconda2/lib/python2.7/urllib2.pyc\u001b[0m in \u001b[0;36m_call_chain\u001b[0;34m(self, chain, kind, meth_name, *args)\u001b[0m\n\u001b[1;32m    405\u001b[0m             \u001b[0mfunc\u001b[0m \u001b[0;34m=\u001b[0m \u001b[0mgetattr\u001b[0m\u001b[0;34m(\u001b[0m\u001b[0mhandler\u001b[0m\u001b[0;34m,\u001b[0m \u001b[0mmeth_name\u001b[0m\u001b[0;34m)\u001b[0m\u001b[0;34m\u001b[0m\u001b[0m\n\u001b[1;32m    406\u001b[0m \u001b[0;34m\u001b[0m\u001b[0m\n\u001b[0;32m--> 407\u001b[0;31m             \u001b[0mresult\u001b[0m \u001b[0;34m=\u001b[0m \u001b[0mfunc\u001b[0m\u001b[0;34m(\u001b[0m\u001b[0;34m*\u001b[0m\u001b[0margs\u001b[0m\u001b[0;34m)\u001b[0m\u001b[0;34m\u001b[0m\u001b[0m\n\u001b[0m\u001b[1;32m    408\u001b[0m             \u001b[0;32mif\u001b[0m \u001b[0mresult\u001b[0m \u001b[0;32mis\u001b[0m \u001b[0;32mnot\u001b[0m \u001b[0mNone\u001b[0m\u001b[0;34m:\u001b[0m\u001b[0;34m\u001b[0m\u001b[0m\n\u001b[1;32m    409\u001b[0m                 \u001b[0;32mreturn\u001b[0m \u001b[0mresult\u001b[0m\u001b[0;34m\u001b[0m\u001b[0m\n",
      "\u001b[0;32m/Users/zhuonijie/anaconda2/lib/python2.7/urllib2.pyc\u001b[0m in \u001b[0;36mhttp_error_default\u001b[0;34m(self, req, fp, code, msg, hdrs)\u001b[0m\n\u001b[1;32m    554\u001b[0m \u001b[0;32mclass\u001b[0m \u001b[0mHTTPDefaultErrorHandler\u001b[0m\u001b[0;34m(\u001b[0m\u001b[0mBaseHandler\u001b[0m\u001b[0;34m)\u001b[0m\u001b[0;34m:\u001b[0m\u001b[0;34m\u001b[0m\u001b[0m\n\u001b[1;32m    555\u001b[0m     \u001b[0;32mdef\u001b[0m \u001b[0mhttp_error_default\u001b[0m\u001b[0;34m(\u001b[0m\u001b[0mself\u001b[0m\u001b[0;34m,\u001b[0m \u001b[0mreq\u001b[0m\u001b[0;34m,\u001b[0m \u001b[0mfp\u001b[0m\u001b[0;34m,\u001b[0m \u001b[0mcode\u001b[0m\u001b[0;34m,\u001b[0m \u001b[0mmsg\u001b[0m\u001b[0;34m,\u001b[0m \u001b[0mhdrs\u001b[0m\u001b[0;34m)\u001b[0m\u001b[0;34m:\u001b[0m\u001b[0;34m\u001b[0m\u001b[0m\n\u001b[0;32m--> 556\u001b[0;31m         \u001b[0;32mraise\u001b[0m \u001b[0mHTTPError\u001b[0m\u001b[0;34m(\u001b[0m\u001b[0mreq\u001b[0m\u001b[0;34m.\u001b[0m\u001b[0mget_full_url\u001b[0m\u001b[0;34m(\u001b[0m\u001b[0;34m)\u001b[0m\u001b[0;34m,\u001b[0m \u001b[0mcode\u001b[0m\u001b[0;34m,\u001b[0m \u001b[0mmsg\u001b[0m\u001b[0;34m,\u001b[0m \u001b[0mhdrs\u001b[0m\u001b[0;34m,\u001b[0m \u001b[0mfp\u001b[0m\u001b[0;34m)\u001b[0m\u001b[0;34m\u001b[0m\u001b[0m\n\u001b[0m\u001b[1;32m    557\u001b[0m \u001b[0;34m\u001b[0m\u001b[0m\n\u001b[1;32m    558\u001b[0m \u001b[0;32mclass\u001b[0m \u001b[0mHTTPRedirectHandler\u001b[0m\u001b[0;34m(\u001b[0m\u001b[0mBaseHandler\u001b[0m\u001b[0;34m)\u001b[0m\u001b[0;34m:\u001b[0m\u001b[0;34m\u001b[0m\u001b[0m\n",
      "\u001b[0;31mHTTPError\u001b[0m: HTTP Error 429: Too Many Requests"
     ]
    }
   ],
   "source": [
    "matchid = []\n",
    "for i in range(len(matchlist[\"matches\"])):\n",
    "    matchid.append(matchlist[\"matches\"][i][\"matchId\"])\n",
    "print len(matchid)\n",
    "match = []\n",
    "for j in range(5):\n",
    "    start_time = time.time()\n",
    "    time.sleep(0.5)\n",
    "    match.append(getMatch(matchid[j]))\n",
    "    time.sleep(0.5)\n",
    "    print(\"--- %s seconds ---\" % (time.time() - start_time)) \n",
    "for j in range(5,10):\n",
    "    start_time = time.time()\n",
    "    time.sleep(0.5)\n",
    "    match.append(getMatch(matchid[j]))\n",
    "    time.sleep(0.5)\n",
    "    print(\"--- %s seconds ---\" % (time.time() - start_time))"
   ]
  },
  {
   "cell_type": "code",
   "execution_count": 123,
   "metadata": {
    "collapsed": false
   },
   "outputs": [],
   "source": [
    "uni = unicode(str(matchid), encoding='UTF-8')\n",
    "with io.open('matchid.txt' , 'w', encoding='utf-8') as f:\n",
    "       f.write(uni)"
   ]
  },
  {
   "cell_type": "code",
   "execution_count": 146,
   "metadata": {
    "collapsed": false
   },
   "outputs": [
    {
     "name": "stdout",
     "output_type": "stream",
     "text": [
      "[[35257388, 44738810, 20951688, 25126971, 42277340, 22901273, 76660449, 28255897, 29737467, 29896423]]\n"
     ]
    }
   ],
   "source": [
    "summonerid = []\n",
    "for j in range(len(match)):\n",
    "    temp = []\n",
    "    for i in range(len(match[j][\"participantIdentities\"])):\n",
    "        temp.append(match[j][\"participantIdentities\"][i][\"player\"][\"summonerId\"])\n",
    "    summonerid.append(temp)\n",
    "print summonerid"
   ]
  },
  {
   "cell_type": "code",
   "execution_count": 107,
   "metadata": {
    "collapsed": false
   },
   "outputs": [
    {
     "data": {
      "text/plain": [
       "20"
      ]
     },
     "execution_count": 107,
     "metadata": {},
     "output_type": "execute_result"
    }
   ],
   "source": [
    "len(summonerid)"
   ]
  },
  {
   "cell_type": "code",
   "execution_count": 110,
   "metadata": {
    "collapsed": false
   },
   "outputs": [],
   "source": [
    "G=nx.Graph()\n",
    "for j in range(len(idlist)):\n",
    "    for i in range(10):\n",
    "        for k in range(i+1,10):\n",
    "            G.add_edge(summonerid[j][i],summonerid[j][k])"
   ]
  },
  {
   "cell_type": "code",
   "execution_count": 113,
   "metadata": {
    "collapsed": false
   },
   "outputs": [
    {
     "data": {
      "image/png": "[encoded data removed]",
      "text/plain": [
       "<matplotlib.figure.Figure at 0x1118851d0>"
      ]
     },
     "metadata": {},
     "output_type": "display_data"
    }
   ],
   "source": [
    "nx.draw_spring(G, node_size=50, with_labels=False, node_color='#7FA8FF')\n",
    "plt.show()"
   ]
  },
  {
   "cell_type": "code",
   "execution_count": 52,
   "metadata": {
    "collapsed": false
   },
   "outputs": [],
   "source": [
    "championid = []\n",
    "for i in range(len(match)):\n",
    "    for j in range(len(match[i][\"participants\"])):\n",
    "        championid.append(match[i][\"participants\"][j][\"championId\"])"
   ]
  },
  {
   "cell_type": "code",
   "execution_count": 53,
   "metadata": {
    "collapsed": false
   },
   "outputs": [
    {
     "data": {
      "text/plain": [
       "50"
      ]
     },
     "execution_count": 53,
     "metadata": {},
     "output_type": "execute_result"
    }
   ],
   "source": [
    "len(championid)"
   ]
  },
  {
   "cell_type": "code",
   "execution_count": 127,
   "metadata": {
    "collapsed": false,
    "scrolled": true
   },
   "outputs": [
    {
     "data": {
      "text/plain": [
       "<matplotlib.text.Text at 0x10f88e2d0>"
      ]
     },
     "execution_count": 127,
     "metadata": {},
     "output_type": "execute_result"
    },
    {
     "data": {
      "image/png": "[encoded data removed]",
      "text/plain": [
       "<matplotlib.figure.Figure at 0x11440ea90>"
      ]
     },
     "metadata": {},
     "output_type": "display_data"
    }
   ],
   "source": [
    "numbers = championid\n",
    "np.histogram(numbers, bins=78, range=None, normed=False, weights=None, density=None)\n",
    "plt.hist(numbers)\n",
    "plt.title(\"Champion Degree Histogram\")\n",
    "plt.xlabel(\"Value\")\n",
    "plt.ylabel(\"Frequency\")"
   ]
  },
  {
   "cell_type": "code",
   "execution_count": 139,
   "metadata": {
    "collapsed": false,
    "scrolled": true
   },
   "outputs": [],
   "source": [
    "freq = {key:len(list(group)) for key, group in groupby(np.sort(championid))}\n",
    "y = freq.values()\n",
    "x = freq.keys()"
   ]
  },
  {
   "cell_type": "code",
   "execution_count": 146,
   "metadata": {
    "collapsed": false
   },
   "outputs": [
    {
     "data": {
      "image/png": "[encoded data removed]",
      "text/plain": [
       "<matplotlib.figure.Figure at 0x1153c05d0>"
      ]
     },
     "metadata": {},
     "output_type": "display_data"
    }
   ],
   "source": [
    "plt.figure()\n",
    "plt.plot(x, y, \"ro\")\n",
    "plt.show()"
   ]
  },
  {
   "cell_type": "code",
   "execution_count": 14,
   "metadata": {
    "collapsed": false
   },
   "outputs": [
    {
     "data": {
      "text/plain": [
       "{u'_id': 63173967,\n",
       " u'name': u'BrtAnn',\n",
       " u'profileIconId': 1301,\n",
       " u'revisionDate': 1479311427000L,\n",
       " u'summonerLevel': 19}"
      ]
     },
     "execution_count": 14,
     "metadata": {},
     "output_type": "execute_result"
    }
   ],
   "source": [
    "SummonerID_Collection.find_one()"
   ]
  },
  {
   "cell_type": "code",
   "execution_count": 104,
   "metadata": {
    "collapsed": false
   },
   "outputs": [
    {
     "name": "stdout",
     "output_type": "stream",
     "text": [
      "{u'63173967': {u'profileIconId': 1301, u'summonerLevel': 19, u'revisionDate': 1479317698000, u'id': 63173967, u'name': u'BrtAnn'}}\n"
     ]
    }
   ],
   "source": [
    "SummonerName=\"BrtAnn\";\n",
    "Region=\"EUNE\";\n",
    "Key=\"RGAPI-20253dda-c325-4a7e-947a-d283af4f8641\";\n",
    "idURL = \"https://eune.api.pvp.net/api/lol/eune/v1.4/summoner/63173967?api_key=RGAPI-20253dda-c325-4a7e-947a-d283af4f8641\"\n",
    "id_data = getJSONReply(idURL);\n",
    "print id_data"
   ]
  },
  {
   "cell_type": "code",
   "execution_count": 147,
   "metadata": {
    "collapsed": false
   },
   "outputs": [
    {
     "data": {
      "text/plain": [
       "90"
      ]
     },
     "execution_count": 147,
     "metadata": {},
     "output_type": "execute_result"
    }
   ],
   "source": [
    "idlist = [SummonerID]\n",
    "for i in range(len(rdata[\"games\"])):\n",
    "    for j in range(len(rdata[\"games\"][i][\"fellowPlayers\"])):\n",
    "        idlist.append(rdata[\"games\"][i][\"fellowPlayers\"][j][\"summonerId\"])\n",
    "len(set(idlist))"
   ]
  },
  {
   "cell_type": "code",
   "execution_count": 148,
   "metadata": {
    "collapsed": true
   },
   "outputs": [
    {
     "ename": "IOError",
     "evalue": "[Errno 2] No such file or directory: 'Summoner/29896423.txt'",
     "output_type": "error",
     "traceback": [
      "\u001b[0;31m---------------------------------------------------------------------------\u001b[0m",
      "\u001b[0;31mIOError\u001b[0m                                   Traceback (most recent call last)",
      "\u001b[0;32m<ipython-input-148-5a70e6a5033d>\u001b[0m in \u001b[0;36m<module>\u001b[0;34m()\u001b[0m\n\u001b[1;32m      1\u001b[0m \u001b[0;32mfor\u001b[0m \u001b[0mgamer\u001b[0m \u001b[0;32min\u001b[0m \u001b[0midlist\u001b[0m\u001b[0;34m:\u001b[0m\u001b[0;34m\u001b[0m\u001b[0m\n\u001b[0;32m----> 2\u001b[0;31m     \u001b[0midURL\u001b[0m\u001b[0;34m,\u001b[0m\u001b[0mid_data\u001b[0m\u001b[0;34m=\u001b[0m\u001b[0mReformatJSONbyid\u001b[0m\u001b[0;34m(\u001b[0m\u001b[0mstr\u001b[0m\u001b[0;34m(\u001b[0m\u001b[0mgamer\u001b[0m\u001b[0;34m)\u001b[0m\u001b[0;34m,\u001b[0m\u001b[0mRegion\u001b[0m\u001b[0;34m,\u001b[0m\u001b[0mKey\u001b[0m\u001b[0;34m)\u001b[0m\u001b[0;34m\u001b[0m\u001b[0m\n\u001b[0m\u001b[1;32m      3\u001b[0m     \u001b[0mtime\u001b[0m\u001b[0;34m.\u001b[0m\u001b[0msleep\u001b[0m\u001b[0;34m(\u001b[0m\u001b[0;36m1\u001b[0m\u001b[0;34m)\u001b[0m\u001b[0;34m\u001b[0m\u001b[0m\n\u001b[1;32m      4\u001b[0m     \u001b[0mrdata\u001b[0m\u001b[0;34m=\u001b[0m\u001b[0mgetRecentHistory\u001b[0m\u001b[0;34m(\u001b[0m\u001b[0mgamer\u001b[0m\u001b[0;34m)\u001b[0m\u001b[0;34m\u001b[0m\u001b[0m\n\u001b[1;32m      5\u001b[0m     \u001b[0mtime\u001b[0m\u001b[0;34m.\u001b[0m\u001b[0msleep\u001b[0m\u001b[0;34m(\u001b[0m\u001b[0;36m1\u001b[0m\u001b[0;34m)\u001b[0m\u001b[0;34m\u001b[0m\u001b[0m\n",
      "\u001b[0;32m<ipython-input-33-ee8fb36afc09>\u001b[0m in \u001b[0;36mReformatJSONbyid\u001b[0;34m(SummonerID, Region, Key)\u001b[0m\n\u001b[1;32m     62\u001b[0m     \u001b[0midRes\u001b[0m\u001b[0;34m[\u001b[0m\u001b[0;34m'_id'\u001b[0m\u001b[0;34m]\u001b[0m \u001b[0;34m=\u001b[0m \u001b[0midRes\u001b[0m\u001b[0;34m[\u001b[0m\u001b[0;34m'id'\u001b[0m\u001b[0;34m]\u001b[0m\u001b[0;34m;\u001b[0m\u001b[0;34m\u001b[0m\u001b[0m\n\u001b[1;32m     63\u001b[0m     \u001b[0midRes\u001b[0m\u001b[0;34m.\u001b[0m\u001b[0mpop\u001b[0m\u001b[0;34m(\u001b[0m\u001b[0;34m'id'\u001b[0m\u001b[0;34m)\u001b[0m\u001b[0;34m;\u001b[0m\u001b[0;34m\u001b[0m\u001b[0m\n\u001b[0;32m---> 64\u001b[0;31m     \u001b[0;32mwith\u001b[0m \u001b[0mio\u001b[0m\u001b[0;34m.\u001b[0m\u001b[0mopen\u001b[0m\u001b[0;34m(\u001b[0m\u001b[0;34m'Summoner/%s.txt'\u001b[0m \u001b[0;34m%\u001b[0m \u001b[0mstr\u001b[0m\u001b[0;34m(\u001b[0m\u001b[0mSummonerID\u001b[0m\u001b[0;34m)\u001b[0m\u001b[0;34m,\u001b[0m \u001b[0;34m'w'\u001b[0m\u001b[0;34m,\u001b[0m \u001b[0mencoding\u001b[0m\u001b[0;34m=\u001b[0m\u001b[0;34m'utf-8'\u001b[0m\u001b[0;34m)\u001b[0m \u001b[0;32mas\u001b[0m \u001b[0mf\u001b[0m\u001b[0;34m:\u001b[0m\u001b[0;34m\u001b[0m\u001b[0m\n\u001b[0m\u001b[1;32m     65\u001b[0m           \u001b[0mf\u001b[0m\u001b[0;34m.\u001b[0m\u001b[0mwrite\u001b[0m\u001b[0;34m(\u001b[0m\u001b[0municode\u001b[0m\u001b[0;34m(\u001b[0m\u001b[0mjson\u001b[0m\u001b[0;34m.\u001b[0m\u001b[0mdumps\u001b[0m\u001b[0;34m(\u001b[0m\u001b[0midRes\u001b[0m\u001b[0;34m,\u001b[0m \u001b[0mensure_ascii\u001b[0m\u001b[0;34m=\u001b[0m\u001b[0mFalse\u001b[0m\u001b[0;34m)\u001b[0m\u001b[0;34m)\u001b[0m\u001b[0;34m)\u001b[0m\u001b[0;34m\u001b[0m\u001b[0m\n\u001b[1;32m     66\u001b[0m     \u001b[0;32mreturn\u001b[0m \u001b[0midRes\u001b[0m\u001b[0;34m,\u001b[0m\u001b[0mid_data\u001b[0m\u001b[0;34m;\u001b[0m\u001b[0;34m\u001b[0m\u001b[0m\n",
      "\u001b[0;31mIOError\u001b[0m: [Errno 2] No such file or directory: 'Summoner/29896423.txt'"
     ]
    }
   ],
   "source": [
    "for gamer in idlist:\n",
    "    idURL,id_data=ReformatJSONbyid(str(gamer),Region,Key)\n",
    "    time.sleep(1)\n",
    "    rdata=getRecentHistory(gamer)\n",
    "    time.sleep(1)\n",
    "    #entryID = SummonerID_Collection.insert_one({str(gamer):idURL}).inserted_id\n",
    "    #entryID = RecentHistory_Collection.insert_one({str(gamer):rdata}).inserted_id"
   ]
  },
  {
   "cell_type": "code",
   "execution_count": 44,
   "metadata": {
    "collapsed": false
   },
   "outputs": [
    {
     "name": "stdout",
     "output_type": "stream",
     "text": [
      "0\n"
     ]
    }
   ],
   "source": [
    "i = 0\n",
    "for item in SummonerID_Collection.find():\n",
    "    print item\n",
    "    i += 1\n",
    "print i\n",
    "\n",
    "RecentHistory_Collection.drop()"
   ]
  },
  {
   "cell_type": "code",
   "execution_count": 138,
   "metadata": {
    "collapsed": false
   },
   "outputs": [
    {
     "name": "stdout",
     "output_type": "stream",
     "text": [
      "None\n"
     ]
    }
   ],
   "source": [
    "print db.SummonerID_Collection.find_one()"
   ]
  },
  {
   "cell_type": "code",
   "execution_count": null,
   "metadata": {
    "collapsed": true
   },
   "outputs": [],
   "source": []
  }
 ],
 "metadata": {
  "anaconda-cloud": {},
  "kernelspec": {
   "display_name": "Python [Root]",
   "language": "python",
   "name": "Python [Root]"
  },
  "language_info": {
   "codemirror_mode": {
    "name": "ipython",
    "version": 2
   },
   "file_extension": ".py",
   "mimetype": "text/x-python",
   "name": "python",
   "nbconvert_exporter": "python",
   "pygments_lexer": "ipython2",
   "version": "2.7.12"
  }
 },
 "nbformat": 4,
 "nbformat_minor": 0
}
